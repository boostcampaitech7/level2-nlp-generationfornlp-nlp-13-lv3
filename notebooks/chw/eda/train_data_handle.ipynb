{
 "cells": [
  {
   "cell_type": "markdown",
   "metadata": {},
   "source": [
    "## Train Data handling\n",
    "\n",
    "훈련 데이터셋의 noise paragraph를 탐지하고 이를 추출하고 추출한 데이터셋을 prediction하여 검사 한 뒤에 비교하는 스크립트"
   ]
  },
  {
   "cell_type": "code",
   "execution_count": 1,
   "metadata": {},
   "outputs": [],
   "source": [
    "import pandas as pd\n"
   ]
  },
  {
   "cell_type": "code",
   "execution_count": null,
   "metadata": {},
   "outputs": [],
   "source": [
    "train_file_path = '../../../data/clean_train.csv'\n",
    "\n",
    "\n",
    "train_dataset_df = pd.read_csv(train_file_path)  # 데이터 경로에 맞게 변경\n"
   ]
  },
  {
   "cell_type": "code",
   "execution_count": null,
   "metadata": {},
   "outputs": [],
   "source": [
    "filtered_df = train_dataset_df.filter(lambda item : len(item['paragraph']) <= 50)"
   ]
  },
  {
   "cell_type": "code",
   "execution_count": null,
   "metadata": {},
   "outputs": [],
   "source": [
    "bad_paragraph_output_path = '../../outputs/bad_paragraph_output.csv'\n",
    "bad_paragraph_df = pd.read_csv(bad_paragraph_output_path)"
   ]
  },
  {
   "cell_type": "code",
   "execution_count": null,
   "metadata": {},
   "outputs": [],
   "source": [
    "# id 컬럼 기준으로 두 DataFrame 병합\n",
    "merged_df = pd.merge(train_dataset_df, bad_paragraph_df, on='id', suffixes=('_train', '_bad'))\n",
    "\n",
    "# answer 컬럼 비교 (같은 값의 비율 계산)\n",
    "total_ids = len(merged_df)\n",
    "matching_answers = (merged_df['answer_train'] == merged_df['answer_bad']).sum()\n",
    "matching_ratio = matching_answers / total_ids if total_ids > 0 else 0\n",
    "\n",
    "# 결과 출력\n",
    "print(f\"총 ID 개수: {total_ids}\")\n",
    "print(f\"answer가 동일한 ID 개수: {matching_answers}\")\n",
    "print(f\"answer가 동일한 비율: {matching_ratio:.2%}\")"
   ]
  }
 ],
 "metadata": {
  "kernelspec": {
   "display_name": "conda-chw",
   "language": "python",
   "name": "python3"
  },
  "language_info": {
   "codemirror_mode": {
    "name": "ipython",
    "version": 3
   },
   "file_extension": ".py",
   "mimetype": "text/x-python",
   "name": "python",
   "nbconvert_exporter": "python",
   "pygments_lexer": "ipython3",
   "version": "3.10.13"
  }
 },
 "nbformat": 4,
 "nbformat_minor": 2
}
