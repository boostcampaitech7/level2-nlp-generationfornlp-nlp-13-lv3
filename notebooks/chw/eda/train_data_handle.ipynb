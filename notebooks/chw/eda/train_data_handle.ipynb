{
 "cells": [
  {
   "cell_type": "markdown",
   "metadata": {},
   "source": [
    "## Train Data handling\n",
    "\n",
    "훈련 데이터셋의 noise paragraph를 탐지하고 이를 추출하고 추출한 데이터셋을 prediction하여 검사 한 뒤에 비교하는 스크립트"
   ]
  },
  {
   "cell_type": "code",
<<<<<<< HEAD
   "execution_count": 1,
=======
   "execution_count": 12,
>>>>>>> 90da4a995baa7246380834793fb4afce6b075843
   "metadata": {},
   "outputs": [],
   "source": [
    "import pandas as pd\n"
   ]
  },
  {
   "cell_type": "code",
<<<<<<< HEAD
   "execution_count": null,
   "metadata": {},
   "outputs": [],
   "source": [
    "train_file_path = '../../../data/clean_train.csv'\n",
=======
   "execution_count": 17,
   "metadata": {},
   "outputs": [],
   "source": [
    "train_file_path = '../../../data/augmented/clean_train.csv'\n",
>>>>>>> 90da4a995baa7246380834793fb4afce6b075843
    "\n",
    "\n",
    "train_dataset_df = pd.read_csv(train_file_path)  # 데이터 경로에 맞게 변경\n"
   ]
  },
  {
   "cell_type": "code",
   "execution_count": null,
   "metadata": {},
   "outputs": [],
   "source": [
    "filtered_df = train_dataset_df.filter(lambda item : len(item['paragraph']) <= 50)"
   ]
  },
  {
   "cell_type": "code",
<<<<<<< HEAD
   "execution_count": null,
   "metadata": {},
   "outputs": [],
   "source": [
    "bad_paragraph_output_path = '../../outputs/bad_paragraph_output.csv'\n",
=======
   "execution_count": 18,
   "metadata": {},
   "outputs": [],
   "source": [
    "bad_paragraph_output_path = '../../../outputs/dataset_test_ver2_bad_paragraph_1833.csv'\n",
>>>>>>> 90da4a995baa7246380834793fb4afce6b075843
    "bad_paragraph_df = pd.read_csv(bad_paragraph_output_path)"
   ]
  },
  {
   "cell_type": "code",
<<<<<<< HEAD
   "execution_count": null,
   "metadata": {},
   "outputs": [],
=======
   "execution_count": 19,
   "metadata": {},
   "outputs": [
    {
     "name": "stdout",
     "output_type": "stream",
     "text": [
      "총 ID 개수: 36\n",
      "answer가 동일한 ID 개수: 29\n",
      "answer가 동일한 비율: 80.56%\n"
     ]
    }
   ],
>>>>>>> 90da4a995baa7246380834793fb4afce6b075843
   "source": [
    "# id 컬럼 기준으로 두 DataFrame 병합\n",
    "merged_df = pd.merge(train_dataset_df, bad_paragraph_df, on='id', suffixes=('_train', '_bad'))\n",
    "\n",
    "# answer 컬럼 비교 (같은 값의 비율 계산)\n",
    "total_ids = len(merged_df)\n",
    "matching_answers = (merged_df['answer_train'] == merged_df['answer_bad']).sum()\n",
    "matching_ratio = matching_answers / total_ids if total_ids > 0 else 0\n",
    "\n",
    "# 결과 출력\n",
    "print(f\"총 ID 개수: {total_ids}\")\n",
    "print(f\"answer가 동일한 ID 개수: {matching_answers}\")\n",
    "print(f\"answer가 동일한 비율: {matching_ratio:.2%}\")"
   ]
<<<<<<< HEAD
=======
  },
  {
   "cell_type": "markdown",
   "metadata": {},
   "source": [
    "# low quality data train"
   ]
  },
  {
   "cell_type": "code",
   "execution_count": 62,
   "metadata": {},
   "outputs": [],
   "source": [
    "import pandas as pd"
   ]
  },
  {
   "cell_type": "code",
   "execution_count": 63,
   "metadata": {},
   "outputs": [],
   "source": [
    "aug_data = pd.read_csv('augmented_data_l2.csv')"
   ]
  },
  {
   "cell_type": "code",
   "execution_count": 64,
   "metadata": {},
   "outputs": [],
   "source": [
    "conv_data = aug_data.drop(columns=['category'])"
   ]
  },
  {
   "cell_type": "code",
   "execution_count": 8,
   "metadata": {},
   "outputs": [],
   "source": [
    "conv_data.to_csv('augented_data_l2_dropcol.csv', index=False)"
   ]
  },
  {
   "cell_type": "markdown",
   "metadata": {},
   "source": [
    "# 데이터 읽어와서 total data로 병합"
   ]
  },
  {
   "cell_type": "code",
   "execution_count": 82,
   "metadata": {},
   "outputs": [
    {
     "data": {
      "text/plain": [
       "2361"
      ]
     },
     "execution_count": 82,
     "metadata": {},
     "output_type": "execute_result"
    }
   ],
   "source": [
    "cotaug_data = pd.read_csv('../../../data/augmented/cot+aug+qc_2361_fix_columns_order.csv')\n",
    "len(cotaug_data)"
   ]
  },
  {
   "cell_type": "code",
   "execution_count": 83,
   "metadata": {},
   "outputs": [
    {
     "data": {
      "text/plain": [
       "983"
      ]
     },
     "execution_count": 83,
     "metadata": {},
     "output_type": "execute_result"
    }
   ],
   "source": [
    "clickf_data = pd.read_csv('../../../data/augmented/CLIcK.csv')\n",
    "len(clickf_data)"
   ]
  },
  {
   "cell_type": "code",
   "execution_count": 84,
   "metadata": {},
   "outputs": [
    {
     "data": {
      "text/plain": [
       "2262"
      ]
     },
     "execution_count": 84,
     "metadata": {},
     "output_type": "execute_result"
    }
   ],
   "source": [
    "total_prompt_data = pd.read_csv('../../../data/augmented/total_prompt_data_v2.csv')\n",
    "len(total_prompt_data)"
   ]
  },
  {
   "cell_type": "code",
   "execution_count": 85,
   "metadata": {},
   "outputs": [
    {
     "data": {
      "text/plain": [
       "390"
      ]
     },
     "execution_count": 85,
     "metadata": {},
     "output_type": "execute_result"
    }
   ],
   "source": [
    "aug_data_l2 = pd.read_csv('../../../data/augmented/augmented_data_l2_dropcol_v3.csv')\n",
    "len(aug_data_l2)"
   ]
  },
  {
   "cell_type": "code",
   "execution_count": 86,
   "metadata": {},
   "outputs": [],
   "source": [
    "dataframes = [cotaug_data, clickf_data, total_prompt_data, aug_data_l2]"
   ]
  },
  {
   "cell_type": "code",
   "execution_count": 87,
   "metadata": {},
   "outputs": [],
   "source": [
    "combined_df = pd.concat(dataframes, ignore_index=True)"
   ]
  },
  {
   "cell_type": "code",
   "execution_count": 88,
   "metadata": {},
   "outputs": [],
   "source": [
    "combined_df.to_csv(\"low_quality_nlp_13_data_total_v5.csv\", index=False)\n"
   ]
  },
  {
   "cell_type": "code",
   "execution_count": 89,
   "metadata": {},
   "outputs": [
    {
     "data": {
      "text/plain": [
       "5996"
      ]
     },
     "execution_count": 89,
     "metadata": {},
     "output_type": "execute_result"
    }
   ],
   "source": [
    "len(combined_df)"
   ]
  },
  {
   "cell_type": "markdown",
   "metadata": {},
   "source": [
    "# choices 컬럼 필터링"
   ]
  },
  {
   "cell_type": "code",
   "execution_count": 42,
   "metadata": {},
   "outputs": [],
   "source": [
    "import ast"
   ]
  },
  {
   "cell_type": "code",
   "execution_count": 77,
   "metadata": {},
   "outputs": [],
   "source": [
    "# total_prompt_data = pd.read_csv('../../../data/augmented/total_prompt_2306.csv')\n",
    "aug_data_l2 = pd.read_csv('../../../data/augmented/augmented_data_l2_dropcol.csv')"
   ]
  },
  {
   "cell_type": "code",
   "execution_count": 79,
   "metadata": {},
   "outputs": [
    {
     "name": "stdout",
     "output_type": "stream",
     "text": [
      "유효한 데이터만 필터링하여 저장 완료: total_prompt_data_v2.csv\n"
     ]
    }
   ],
   "source": [
    "def is_valid_choices(value):\n",
    "    try:\n",
    "        # 문자열을 리스트로 변환 (만약 데이터가 문자열 형태로 저장된 경우)\n",
    "        if isinstance(value, str):\n",
    "            value = ast.literal_eval(value)  # 안전하게 문자열을 리스트로 변환\n",
    "\n",
    "        # 리스트 여부와 길이 조건 검증\n",
    "        return isinstance(value, list) and len(value) in [4, 5]\n",
    "    except (ValueError, SyntaxError):\n",
    "        # 변환 오류 발생 시 False 반환\n",
    "        return False\n",
    "\n",
    "# 유효한 행만 필터링\n",
    "# filtered_data = total_prompt_data[total_prompt_data['choices'].apply(is_valid_choices)]\n",
    "filtered_data2 = aug_data_l2[aug_data_l2['choices'].apply(is_valid_choices)]\n",
    "# 결과 저장\n",
    "# filtered_data.to_csv(\"total_prompt_data_v2.csv\", index=False)\n",
    "filtered_data2.to_csv(\"augmented_data_l2_dropcol_v3.csv\", index=False)\n",
    "\n",
    "print(\"유효한 데이터만 필터링하여 저장 완료: total_prompt_data_v2.csv\")\n"
   ]
  },
  {
   "cell_type": "markdown",
   "metadata": {},
   "source": [
    "# high quality data 병합"
   ]
  },
  {
   "cell_type": "code",
   "execution_count": 90,
   "metadata": {},
   "outputs": [],
   "source": [
    "economy_society_data = pd.read_csv('./data/train_경제와사회pairs최종.csv')\n",
    "clickf_data = pd.read_csv('./data/clickf.csv')\n",
    "cot_data = pd.read_csv('./data/cot+aug+qc_2361_fix_columns.csv')\n",
    "prompt_data = pd.read_csv('./data/prompt_data1700.csv')\n"
   ]
  },
  {
   "cell_type": "code",
   "execution_count": 92,
   "metadata": {},
   "outputs": [],
   "source": [
    "high_dataframes = [economy_society_data, clickf_data, cot_data, prompt_data]"
   ]
  },
  {
   "cell_type": "code",
   "execution_count": 101,
   "metadata": {},
   "outputs": [],
   "source": [
    "desired_columns = [\"id\",\"paragraph\",\"question\",\"choices\",\"answer\",\"question_plus\"]\n",
    "sorted_dataframes = [df.reindex(desired_columns, axis=1) for df in high_dataframes]\n"
   ]
  },
  {
   "cell_type": "code",
   "execution_count": 105,
   "metadata": {},
   "outputs": [],
   "source": [
    "high_combined_df = pd.concat(sorted_dataframes, ignore_index=True)"
   ]
  },
  {
   "cell_type": "code",
   "execution_count": 106,
   "metadata": {},
   "outputs": [],
   "source": [
    "filtered_data3 = high_combined_df[high_combined_df['choices'].apply(is_valid_choices)]"
   ]
  },
  {
   "cell_type": "code",
   "execution_count": 107,
   "metadata": {},
   "outputs": [],
   "source": [
    "filtered_data3.to_csv(\"./data/high_quality_nlp_13_data_total_v3.csv\", index=False)\n"
   ]
  },
  {
   "cell_type": "code",
   "execution_count": 109,
   "metadata": {},
   "outputs": [
    {
     "data": {
      "text/plain": [
       "5332"
      ]
     },
     "execution_count": 109,
     "metadata": {},
     "output_type": "execute_result"
    }
   ],
   "source": [
    "len(filtered_data3)"
   ]
  },
  {
   "cell_type": "code",
   "execution_count": null,
   "metadata": {},
   "outputs": [],
   "source": []
>>>>>>> 90da4a995baa7246380834793fb4afce6b075843
  }
 ],
 "metadata": {
  "kernelspec": {
   "display_name": "conda-chw",
   "language": "python",
   "name": "python3"
  },
  "language_info": {
   "codemirror_mode": {
    "name": "ipython",
    "version": 3
   },
   "file_extension": ".py",
   "mimetype": "text/x-python",
   "name": "python",
   "nbconvert_exporter": "python",
   "pygments_lexer": "ipython3",
   "version": "3.10.13"
  }
 },
 "nbformat": 4,
 "nbformat_minor": 2
}
