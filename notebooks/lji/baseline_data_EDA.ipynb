{
 "cells": [
  {
   "cell_type": "code",
   "execution_count": 130,
   "metadata": {
    "id": "k51vzUA0jmAa"
   },
   "outputs": [],
   "source": [
    "import torch\n",
    "import transformers\n",
    "from ast import literal_eval\n",
    "import pandas as pd\n",
    "import random\n",
    "import numpy as np\n",
    "import chardet"
   ]
  },
  {
   "cell_type": "code",
   "execution_count": 131,
   "metadata": {
    "id": "cVAgbEqZkN7A"
   },
   "outputs": [],
   "source": [
    "# Load the train dataset\n",
    "# TODO Train Data 경로 입력\n",
    "dataset = pd.read_csv('train.csv')\n",
    "\n",
    "# Flatten the JSON dataset\n",
    "records = []\n",
    "for _, row in dataset.iterrows():\n",
    "    problems = literal_eval(row['problems'])\n",
    "    record = {\n",
    "        'id': row['id'],\n",
    "        'paragraph': row['paragraph'],\n",
    "        'question': problems['question'],\n",
    "        'choices': problems['choices'],\n",
    "        'answer': problems.get('answer', None),\n",
    "        \"question_plus\": problems.get('question_plus', None),\n",
    "    }\n",
    "    # Include 'question_plus' if it exists\n",
    "    if 'question_plus' in problems:\n",
    "        record['question_plus'] = problems['question_plus']\n",
    "    records.append(record)\n",
    "\n",
    "# Convert to DataFrame\n",
    "df = pd.DataFrame(records)"
   ]
  },
  {
   "cell_type": "code",
   "execution_count": 43,
   "metadata": {},
   "outputs": [],
   "source": [
    "dataset = pd.read_csv('test.csv')"
   ]
  },
  {
   "cell_type": "code",
   "execution_count": 44,
   "metadata": {},
   "outputs": [
    {
     "data": {
      "text/plain": [
       "869"
      ]
     },
     "execution_count": 44,
     "metadata": {},
     "output_type": "execute_result"
    }
   ],
   "source": [
    "len(dataset)"
   ]
  },
  {
   "cell_type": "code",
   "execution_count": 45,
   "metadata": {
    "colab": {
     "base_uri": "https://localhost:8080/",
     "height": 597
    },
    "id": "2l7ee5chogGg",
    "outputId": "1abeedd1-90e5-48fb-9e79-0f6e02c112a1"
   },
   "outputs": [
    {
     "data": {
      "text/plain": [
       "0                                [ㄱ, ㄴ, ㄱ, ㄷ, ㄴ, ㄹ, ㄷ, ㄹ]\n",
       "1       [고려 문종 때에 남경(南京)으로 승격되었다., 종루(鐘樓), 이현, 칠패 등에서 ...\n",
       "2       [이곳에 대장도감을 설치하여 재조대장경을 만들었다., 지눌이 이곳에서 수선사 결사운...\n",
       "3       [살수에서 수의 군대를 물리쳤다 ., 김춘추 의 신라 왕위 계승을 지원하였다 ., ...\n",
       "4       [사창제를 실시하였다 ., 대전회통을 편찬하였다 ., 비변사의 기능을 강화하였다 ....\n",
       "                              ...                        \n",
       "2026               [1억8760만달러, 5000만달러, 2억달러, 1억달러, 3억달러]\n",
       "2027    [전시물 설명 및 안내, 고객 서비스 제공, 제품 판매 촉진, 온라인 강좌 콘텐츠 ...\n",
       "2028    [옥수동의 재개발이 먼저 이루어졌다, 금호동의 인구가 더 많다, 옥수동이 더 많은 ...\n",
       "2029                      [셀트리온, 삼성전자, LG화학, 한화그룹, 현대자동차]\n",
       "2030                                [자애, 연민, 기쁨, 평온, 소유욕]\n",
       "Name: choices, Length: 2031, dtype: object"
      ]
     },
     "execution_count": 45,
     "metadata": {},
     "output_type": "execute_result"
    }
   ],
   "source": [
    "df['choices']"
   ]
  },
  {
   "cell_type": "code",
   "execution_count": 46,
   "metadata": {},
   "outputs": [
    {
     "name": "stdout",
     "output_type": "stream",
     "text": [
      "0                             [ㄱ, ㄴ, ㄱ, ㄷ, ㄴ, ㄹ, ㄷ, ㄹ]\n",
      "1    [고려 문종 때에 남경(南京)으로 승격되었다., 종루(鐘樓), 이현, 칠패 등에서 ...\n",
      "2    [이곳에 대장도감을 설치하여 재조대장경을 만들었다., 지눌이 이곳에서 수선사 결사운...\n",
      "3    [살수에서 수의 군대를 물리쳤다 ., 김춘추 의 신라 왕위 계승을 지원하였다 ., ...\n",
      "4    [사창제를 실시하였다 ., 대전회통을 편찬하였다 ., 비변사의 기능을 강화하였다 ....\n",
      "Name: choices, dtype: object\n",
      "<class 'list'>\n"
     ]
    }
   ],
   "source": [
    "print(df['choices'].head())\n",
    "print(type(df['choices'].iloc[0]))"
   ]
  },
  {
   "cell_type": "code",
   "execution_count": 47,
   "metadata": {
    "colab": {
     "base_uri": "https://localhost:8080/"
    },
    "id": "hyhQJP55oi86",
    "outputId": "ea2d03c7-2900-4c17-e109-667999011f21"
   },
   "outputs": [
    {
     "data": {
      "text/plain": [
       "2031"
      ]
     },
     "execution_count": 47,
     "metadata": {},
     "output_type": "execute_result"
    }
   ],
   "source": [
    "len(df)"
   ]
  },
  {
   "cell_type": "code",
   "execution_count": 48,
   "metadata": {
    "colab": {
     "base_uri": "https://localhost:8080/"
    },
    "id": "1coybJppotS0",
    "outputId": "da1043cc-4568-45b8-a2d1-b1b1a3a0e5d5"
   },
   "outputs": [
    {
     "name": "stdout",
     "output_type": "stream",
     "text": [
      "id                  0\n",
      "paragraph           0\n",
      "question            0\n",
      "choices             0\n",
      "answer              0\n",
      "question_plus    2031\n",
      "dtype: int64\n"
     ]
    }
   ],
   "source": [
    "print(df.isnull().sum())"
   ]
  },
  {
   "cell_type": "code",
   "execution_count": 49,
   "metadata": {
    "colab": {
     "base_uri": "https://localhost:8080/"
    },
    "id": "owrgZH2ko0zu",
    "outputId": "761e44aa-c511-4692-a785-2aaee5ff7e5b"
   },
   "outputs": [
    {
     "name": "stdout",
     "output_type": "stream",
     "text": [
      "<class 'pandas.core.frame.DataFrame'>\n",
      "RangeIndex: 2031 entries, 0 to 2030\n",
      "Data columns (total 6 columns):\n",
      " #   Column         Non-Null Count  Dtype \n",
      "---  ------         --------------  ----- \n",
      " 0   id             2031 non-null   object\n",
      " 1   paragraph      2031 non-null   object\n",
      " 2   question       2031 non-null   object\n",
      " 3   choices        2031 non-null   object\n",
      " 4   answer         2031 non-null   int64 \n",
      " 5   question_plus  0 non-null      object\n",
      "dtypes: int64(1), object(5)\n",
      "memory usage: 95.3+ KB\n"
     ]
    }
   ],
   "source": [
    "df.info()"
   ]
  },
  {
   "cell_type": "code",
   "execution_count": 50,
   "metadata": {},
   "outputs": [
    {
     "name": "stdout",
     "output_type": "stream",
     "text": [
      "                           id  \\\n",
      "0      generation-for-nlp-425   \n",
      "1      generation-for-nlp-426   \n",
      "2      generation-for-nlp-427   \n",
      "3      generation-for-nlp-428   \n",
      "4      generation-for-nlp-429   \n",
      "...                       ...   \n",
      "2026  generation-for-nlp-2893   \n",
      "2027  generation-for-nlp-2894   \n",
      "2028  generation-for-nlp-2895   \n",
      "2029  generation-for-nlp-2896   \n",
      "2030  generation-for-nlp-2899   \n",
      "\n",
      "                                              paragraph  \\\n",
      "0     상소하여 아뢰기를 , “신이 좌참 찬 송준길이 올린 차자를 보았는데 , 상복(喪服)...   \n",
      "1     (가)은/는 의병계열과 애국계몽 운동 계열의 비밀결사가 모여 결성된 조직으로, 총사...   \n",
      "2     나는 삼한(三韓) 산천의 음덕을 입어 대업을 이루었다.(가)는/은 수덕(水德)이 순...   \n",
      "3     이 날 소정방이 부총관 김인문 등과 함께 기 벌포에 도착하여 백제 군사와 마주쳤다....   \n",
      "4     선비들 수만 명이 대궐 앞에 모여 만 동묘와 서원을 다시 설립할 것을 청하니, (가...   \n",
      "...                                                 ...   \n",
      "2026  “헐값에 팔리는 냉동 오렌지주스만 잔뜩 사가고, 쿠폰을 오려 모았으며, 구멍 난 스...   \n",
      "2027  넷기어코리아(지사장 김진겸, 이하 넷기어)가 뮤럴 캔버스를 가지고 넷기어 SNS에서...   \n",
      "2028  서울 성동구 옥수동과 금호동은 맞붙어 있는 동네지만 아파트값은 같은 면적에서 1억원...   \n",
      "2029  방하남 고용노동부 장관(사진)이 취임 후 첫 외부 행사로 5년 만에 일자리를 3.5...   \n",
      "2030  진실한 사랑은 기쁨과 평화를 낳고 고통을 줄여준다. 그것은 자애, 연민, 기쁨, 평...   \n",
      "\n",
      "                                   question  \\\n",
      "0     상소한 인물이 속한 붕당에 대한 설명으로 옳은 것만을 모두 고르면?   \n",
      "1                    (가)에 대한 설명으로 옳지 않은 것은?   \n",
      "2                    (가) 지역에 대한 설명으로 옳은 것은?   \n",
      "3                  밑줄 친 ‘그’에 대한 설명으로 옳은 것은?   \n",
      "4                (가) 인물이 추진한 정책으로 옳지 않은 것은?   \n",
      "...                                     ...   \n",
      "2026               잭 맥도널드가 남긴 유산의 총액은 얼마인가?   \n",
      "2027    넷기어가 모집하는 '뮤럴 공식 도슨트'의 주요 역할은 무엇인가?   \n",
      "2028    옥수동과 금호동의 아파트값 차이가 발생한 주된 이유는 무엇인가?   \n",
      "2029        방하남 고용노동부 장관이 방문한 기업의 이름은 무엇인가?   \n",
      "2030   틱낫한 스님이 강조하는 진실한 사랑의 요소가 아닌 것은 무엇인가?   \n",
      "\n",
      "                                                choices  answer question_plus  \n",
      "0                              [ㄱ, ㄴ, ㄱ, ㄷ, ㄴ, ㄹ, ㄷ, ㄹ]       2          None  \n",
      "1     [고려 문종 때에 남경(南京)으로 승격되었다., 종루(鐘樓), 이현, 칠패 등에서 ...       1          None  \n",
      "2     [이곳에 대장도감을 설치하여 재조대장경을 만들었다., 지눌이 이곳에서 수선사 결사운...       4          None  \n",
      "3     [살수에서 수의 군대를 물리쳤다 ., 김춘추 의 신라 왕위 계승을 지원하였다 ., ...       2          None  \n",
      "4     [사창제를 실시하였다 ., 대전회통을 편찬하였다 ., 비변사의 기능을 강화하였다 ....       3          None  \n",
      "...                                                 ...     ...           ...  \n",
      "2026             [1억8760만달러, 5000만달러, 2억달러, 1억달러, 3억달러]       1          None  \n",
      "2027  [전시물 설명 및 안내, 고객 서비스 제공, 제품 판매 촉진, 온라인 강좌 콘텐츠 ...       4          None  \n",
      "2028  [옥수동의 재개발이 먼저 이루어졌다, 금호동의 인구가 더 많다, 옥수동이 더 많은 ...       1          None  \n",
      "2029                    [셀트리온, 삼성전자, LG화학, 한화그룹, 현대자동차]       1          None  \n",
      "2030                              [자애, 연민, 기쁨, 평온, 소유욕]       5          None  \n",
      "\n",
      "[2031 rows x 6 columns]\n"
     ]
    }
   ],
   "source": [
    "print(df[df['question'].notnull()])"
   ]
  },
  {
   "cell_type": "code",
   "execution_count": 51,
   "metadata": {
    "id": "cY-BpQMjo16A"
   },
   "outputs": [],
   "source": [
    "# Combine 'question' and 'question_plus' if available\n",
    "question_df = pd.DataFrame()\n",
    "question_df['question_plus'] = df['question_plus'].fillna('')\n",
    "question_df['full_question'] = df.apply(lambda x: x['question'] + ' ' + x['question_plus'] if x['question_plus'] else x['question'], axis=1)\n",
    "\n",
    "# Calculate the length of each question\n",
    "question_df['question_length'] = question_df['full_question'].apply(len)"
   ]
  },
  {
   "cell_type": "code",
   "execution_count": 52,
   "metadata": {
    "colab": {
     "base_uri": "https://localhost:8080/",
     "height": 424
    },
    "id": "cdf7cf9Ho6jG",
    "outputId": "ef3b05d9-fb12-48d6-955c-94c4cc223463"
   },
   "outputs": [
    {
     "data": {
      "text/html": [
       "<div>\n",
       "<style scoped>\n",
       "    .dataframe tbody tr th:only-of-type {\n",
       "        vertical-align: middle;\n",
       "    }\n",
       "\n",
       "    .dataframe tbody tr th {\n",
       "        vertical-align: top;\n",
       "    }\n",
       "\n",
       "    .dataframe thead th {\n",
       "        text-align: right;\n",
       "    }\n",
       "</style>\n",
       "<table border=\"1\" class=\"dataframe\">\n",
       "  <thead>\n",
       "    <tr style=\"text-align: right;\">\n",
       "      <th></th>\n",
       "      <th>question_plus</th>\n",
       "      <th>full_question</th>\n",
       "      <th>question_length</th>\n",
       "    </tr>\n",
       "  </thead>\n",
       "  <tbody>\n",
       "    <tr>\n",
       "      <th>0</th>\n",
       "      <td></td>\n",
       "      <td>상소한 인물이 속한 붕당에 대한 설명으로 옳은 것만을 모두 고르면?</td>\n",
       "      <td>37</td>\n",
       "    </tr>\n",
       "    <tr>\n",
       "      <th>1</th>\n",
       "      <td></td>\n",
       "      <td>(가)에 대한 설명으로 옳지 않은 것은?</td>\n",
       "      <td>22</td>\n",
       "    </tr>\n",
       "    <tr>\n",
       "      <th>2</th>\n",
       "      <td></td>\n",
       "      <td>(가) 지역에 대한 설명으로 옳은 것은?</td>\n",
       "      <td>22</td>\n",
       "    </tr>\n",
       "    <tr>\n",
       "      <th>3</th>\n",
       "      <td></td>\n",
       "      <td>밑줄 친 ‘그’에 대한 설명으로 옳은 것은?</td>\n",
       "      <td>24</td>\n",
       "    </tr>\n",
       "    <tr>\n",
       "      <th>4</th>\n",
       "      <td></td>\n",
       "      <td>(가) 인물이 추진한 정책으로 옳지 않은 것은?</td>\n",
       "      <td>26</td>\n",
       "    </tr>\n",
       "    <tr>\n",
       "      <th>...</th>\n",
       "      <td>...</td>\n",
       "      <td>...</td>\n",
       "      <td>...</td>\n",
       "    </tr>\n",
       "    <tr>\n",
       "      <th>2026</th>\n",
       "      <td></td>\n",
       "      <td>잭 맥도널드가 남긴 유산의 총액은 얼마인가?</td>\n",
       "      <td>24</td>\n",
       "    </tr>\n",
       "    <tr>\n",
       "      <th>2027</th>\n",
       "      <td></td>\n",
       "      <td>넷기어가 모집하는 '뮤럴 공식 도슨트'의 주요 역할은 무엇인가?</td>\n",
       "      <td>35</td>\n",
       "    </tr>\n",
       "    <tr>\n",
       "      <th>2028</th>\n",
       "      <td></td>\n",
       "      <td>옥수동과 금호동의 아파트값 차이가 발생한 주된 이유는 무엇인가?</td>\n",
       "      <td>35</td>\n",
       "    </tr>\n",
       "    <tr>\n",
       "      <th>2029</th>\n",
       "      <td></td>\n",
       "      <td>방하남 고용노동부 장관이 방문한 기업의 이름은 무엇인가?</td>\n",
       "      <td>31</td>\n",
       "    </tr>\n",
       "    <tr>\n",
       "      <th>2030</th>\n",
       "      <td></td>\n",
       "      <td>틱낫한 스님이 강조하는 진실한 사랑의 요소가 아닌 것은 무엇인가?</td>\n",
       "      <td>36</td>\n",
       "    </tr>\n",
       "  </tbody>\n",
       "</table>\n",
       "<p>2031 rows × 3 columns</p>\n",
       "</div>"
      ],
      "text/plain": [
       "     question_plus                          full_question  question_length\n",
       "0                   상소한 인물이 속한 붕당에 대한 설명으로 옳은 것만을 모두 고르면?               37\n",
       "1                                  (가)에 대한 설명으로 옳지 않은 것은?               22\n",
       "2                                  (가) 지역에 대한 설명으로 옳은 것은?               22\n",
       "3                                밑줄 친 ‘그’에 대한 설명으로 옳은 것은?               24\n",
       "4                              (가) 인물이 추진한 정책으로 옳지 않은 것은?               26\n",
       "...            ...                                    ...              ...\n",
       "2026                             잭 맥도널드가 남긴 유산의 총액은 얼마인가?               24\n",
       "2027                  넷기어가 모집하는 '뮤럴 공식 도슨트'의 주요 역할은 무엇인가?               35\n",
       "2028                  옥수동과 금호동의 아파트값 차이가 발생한 주된 이유는 무엇인가?               35\n",
       "2029                      방하남 고용노동부 장관이 방문한 기업의 이름은 무엇인가?               31\n",
       "2030                 틱낫한 스님이 강조하는 진실한 사랑의 요소가 아닌 것은 무엇인가?               36\n",
       "\n",
       "[2031 rows x 3 columns]"
      ]
     },
     "execution_count": 52,
     "metadata": {},
     "output_type": "execute_result"
    }
   ],
   "source": [
    "question_df"
   ]
  },
  {
   "cell_type": "code",
   "execution_count": 53,
   "metadata": {
    "id": "tdE9xwvXpNXb"
   },
   "outputs": [],
   "source": [
    "import matplotlib.pyplot as plt"
   ]
  },
  {
   "cell_type": "code",
   "execution_count": 54,
   "metadata": {
    "id": "fQHUz70OGiLz"
   },
   "outputs": [],
   "source": [
    "# 'question'과 'question_plus'를 결합한 데이터 길이 평균"
   ]
  },
  {
   "cell_type": "code",
   "execution_count": 55,
   "metadata": {
    "colab": {
     "base_uri": "https://localhost:8080/",
     "height": 333
    },
    "id": "MyS60co5o36j",
    "outputId": "17a9e60a-ecbb-444f-a001-c8ac3bca04e5"
   },
   "outputs": [
    {
     "data": {
      "image/png": "[encoded data removed]",
      "text/plain": [
       "<Figure size 500x300 with 1 Axes>"
      ]
     },
     "metadata": {},
     "output_type": "display_data"
    }
   ],
   "source": [
    "plt.figure(figsize=(5, 3))\n",
    "plt.hist(question_df['question_length'], bins=30, edgecolor='black', alpha=0.7)\n",
    "plt.title('Distribution of Question Lengths')\n",
    "plt.xlabel('Question Length')\n",
    "plt.ylabel('Frequency')\n",
    "plt.show()"
   ]
  },
  {
   "cell_type": "code",
   "execution_count": 56,
   "metadata": {
    "colab": {
     "base_uri": "https://localhost:8080/"
    },
    "id": "F00lOwIdGtCL",
    "outputId": "868af01c-ed82-4479-d484-c303eb668a94"
   },
   "outputs": [
    {
     "name": "stdout",
     "output_type": "stream",
     "text": [
      "Rows with values in 'question_plus': 0\n"
     ]
    }
   ],
   "source": [
    "# question_plus 컬럼에 값이 있는지 여부 확인\n",
    "has_values = df['question_plus'].notna().sum()\n",
    "print(f\"Rows with values in 'question_plus': {has_values}\")\n"
   ]
  },
  {
   "cell_type": "code",
   "execution_count": 57,
   "metadata": {},
   "outputs": [
    {
     "name": "stdout",
     "output_type": "stream",
     "text": [
      "평균 길이: 39.24175283111768\n",
      "가장 긴 길이: 152\n",
      "가장 짧은 길이: 10\n"
     ]
    }
   ],
   "source": [
    "# 평균, 최대, 최소 길이 계산\n",
    "average_length1 = df['question'].str.len().mean()\n",
    "max_length1 = df['question'].str.len().max()\n",
    "min_length1 = df['question'].str.len().min()\n",
    "\n",
    "# 결과 출력\n",
    "print(f\"평균 길이: {average_length1}\")\n",
    "print(f\"가장 긴 길이: {max_length1}\")\n",
    "print(f\"가장 짧은 길이: {min_length1}\")"
   ]
  },
  {
   "cell_type": "code",
   "execution_count": 58,
   "metadata": {
    "colab": {
     "base_uri": "https://localhost:8080/"
    },
    "id": "oIkS_weOHTOq",
    "outputId": "fb90270d-c3ee-4035-b412-2400b7a479b9"
   },
   "outputs": [
    {
     "name": "stdout",
     "output_type": "stream",
     "text": [
      "Series([], Name: count, dtype: int64)\n"
     ]
    }
   ],
   "source": [
    "# question_plus 컬럼의 값 분포 확인\n",
    "print(df['question_plus'].value_counts())\n"
   ]
  },
  {
   "cell_type": "code",
   "execution_count": 59,
   "metadata": {
    "colab": {
     "base_uri": "https://localhost:8080/",
     "height": 35
    },
    "id": "vzot3NoVIQTf",
    "outputId": "b7e37158-34e9-483a-96d2-38d028a539a1"
   },
   "outputs": [
    {
     "data": {
      "text/plain": [
       "'\\n일반적으로 value_counts()는 고유 값의 빈도를 나타내줌\\n하지만 하나의 값만 나타나고 있음을 알 수 있음\\n각 값이 고유해서 각각 1번씩만 나타난다는 의미\\n결과의 데이터 타입이 정수형\\n'"
      ]
     },
     "execution_count": 59,
     "metadata": {},
     "output_type": "execute_result"
    }
   ],
   "source": [
    "#결과\n",
    "\"\"\"\n",
    "일반적으로 value_counts()는 고유 값의 빈도를 나타내줌\n",
    "하지만 하나의 값만 나타나고 있음을 알 수 있음\n",
    "각 값이 고유해서 각각 1번씩만 나타난다는 의미\n",
    "결과의 데이터 타입이 정수형\n",
    "\"\"\""
   ]
  },
  {
   "cell_type": "markdown",
   "metadata": {
    "id": "LnZqoisYIpQr"
   },
   "source": [
    "---"
   ]
  },
  {
   "cell_type": "markdown",
   "metadata": {
    "id": "evNqprYSI7WI"
   },
   "source": [
    "# paragraph의 문자 길이 분포도\n"
   ]
  },
  {
   "cell_type": "code",
   "execution_count": 60,
   "metadata": {
    "colab": {
     "base_uri": "https://localhost:8080/"
    },
    "id": "gsci8aERJ7en",
    "outputId": "6f92cbd8-b7a2-48a3-f54a-c2dbb043d9ae"
   },
   "outputs": [
    {
     "name": "stdout",
     "output_type": "stream",
     "text": [
      "평균 길이: 735.3244707040867\n",
      "가장 긴 길이: 2017\n",
      "가장 짧은 길이: 15\n"
     ]
    }
   ],
   "source": [
    "# 평균, 최대, 최소 길이 계산\n",
    "average_length = df['paragraph'].str.len().mean()\n",
    "max_length = df['paragraph'].str.len().max()\n",
    "min_length = df['paragraph'].str.len().min()\n",
    "\n",
    "# 결과 출력\n",
    "print(f\"평균 길이: {average_length}\")\n",
    "print(f\"가장 긴 길이: {max_length}\")\n",
    "print(f\"가장 짧은 길이: {min_length}\")\n"
   ]
  },
  {
   "cell_type": "code",
   "execution_count": 61,
   "metadata": {
    "colab": {
     "base_uri": "https://localhost:8080/"
    },
    "id": "RryDJUkJKKKV",
    "outputId": "0d63ab6c-ebe2-4957-dec5-7746cb0bc77c"
   },
   "outputs": [
    {
     "name": "stdout",
     "output_type": "stream",
     "text": [
      "Longest context:\n",
      "서울시가 2030년까지 ‘4대문 안 한양도성’과 ‘강남’ ‘영등포·여의도’ 등을 국제경쟁력을 갖춘 ‘3대 도심권’으로 육성한다는 계획을 세웠다. 또 용산, 청량리·왕십리, 창동·상계 등 7개 권역은 이를 둘러싼 ‘광역중심(옛 부도심)’으로 지정하고 지역별 특성에 맞게 개발키로 했다. 서울시는 26일 이 같은 내용을 핵심으로 한 ‘2030 도시기본계획안(서울플랜)’을 발표했다. 지역별 균형발전을 위한 ‘권역별 거점지역’을 확대하고, 여기에 맞는 급행철도 등 광역교통망을 확충하는 마스터플랜을 담고 있다. ○강남·여의도 ‘도심권’ 추가 지정이번 서울도시기본계획은 1990년 첫 계획이 마련된 이후 ‘2020 서울도시기본계획’까지 20여년간 유지됐던 기본 골격(1도심·5부도심·11지역중심)을 ‘3도심·7광역중심·12지역중심’으로 바꿨다. 지금까지는 서울의 한복판인 ‘4대문 안 일대’를 핵심축(1도심)으로 도시체계가 짜여졌지만 앞으로는 핵심 도시권을 2개 더 추가해 강남·북을 아우르는 ‘3각 도심’ 체계로 전환하겠다는 것이다. 3대 도심은 각자 특성을 반영해 각종 개발계획이 세워진다. 4대문 안은 ‘세계적 역사문화중심지’로, 강남과 영등포·여의도는 각각 ‘국제업무중심지’ ‘국제금융중심지’로 특화한다. 도심권을 둘러싼 ‘5대 부도심권’은 ‘7개 광역중심’이란 명칭을 붙여 2개권을 추가했다. 다른 지역에 비해 낙후된 동북·서남권에 1곳씩을 더했다. 해당 지역은 용산, 청량리·왕십리, 상암·수색, 창동·상계, 가산·대림, 잠실, 마곡 등이다. 광역중심지는 창동차량기지와 마곡산업단지, 구로차량기지, 제2롯데월드 등 대규모 개발과 고용 창출이 가능한 지역들을 지정했다. 광역중심의 하부 개념인 ‘지역중심은 12곳으로 구분됐다. 동대문, 성수, 망우, 미아, 연신내·불광, 신촌, 마포·공덕, 목동, 봉천, 사당·이수, 수서·문정, 천호·길동 등이다. 이들 지역에는 각종 공공서비스 및 상업·문화기능 확대를 통해 자족기능이 가능해지도록 개발 지원이 이뤄진다.수도권 거주 직장인들의 출퇴근 확대에 따른 교통난 해결을 위해 철도 확충 방안도 포함됐다. 최근 발표한 9개 경전철 노선과 별개로 수도권 서북·동남권과의 연계성을 더 강화할 방침이다. 이를 위해 신분당선은 4대문 내 도심을 거쳐 고양 삼송까지 연장할 계획이다. 인천~가산~강남·잠실을 잇는 ‘남부 급행철도’도 건설한다. 다만 이들 시설은 모두 국토교통부와 협의 사안이어서 계획대로 실행되기까지는 많은 변수가 있다. 서울 마스터플랜 수립에 참여한 최막중 서울대 환경대학원장은 “앞으로 대형 빌딩과 초고층 건물이 어디에 들어설 수 있는지, 광역교통망이 지나는 길목은 어디인지 우선순위를 결정할 것”이라며 “시민 생활환경 개선과 지역 균형발전이 도시기본계획 수립의 목적”이라고 설명했다.○공공임대주택도 선진국 수준까지 확대 ‘2030 서울플랜’은 오세훈 전 시장이 2011년 수립했던 계획의 골격을 대부분 유지하고 있다. 도심과 강남, 여의도·영등포를 ‘3핵’으로 규정한 ‘3핵-3부핵-13거점’(총 19개소)이란 틀로 짜여졌다. 박원순 시장은 기존 공간계획의 골격에다 복지 교육 문화 경관 에너지 등 시민생활향상 지표들을 포함시켰다. 예컨대 최저소득기준 보장률을 현재 48%에서 2030년까지 100%로, 국공립어린이집 보육분담률은 11%에서 35%로, 공공임대주택 비율은 5%에서 선진국 수준인 12%까지 각각 늘리는 등의 내용이다. 복지 증대 관련 계획 17가지도 담았다. 자연·문화유산 보존에 비중을 둔 녹지축 마련도 명문화했다. 이번 계획은 수립 과정에서 ‘100인 시민참여단’을 비롯해 시민·전문가 250여명을 참여시켰다. 예전에 도시기본계획을 세울 때보다 훨씬 다양한 시민 의견을 반영했다는 게 서울시의 설명이다.하지만 일각에선 ‘2030 서울플랜’의 발표를 두고 내년 지방선거를 의식하고 성급하게 내놓은 것 아니냐는 지적도 나오고 있다. 서울시 관계자는 “도시기본계획은 원래 5년마다 재검토하도록 법에 규정됐다”며 “오히려 서울 2030 기본계획은 2006년에 개념이 공표된 이후 최종 마무리가 너무 늦어지고 있는 상황”이라고 반박했다.\n",
      "\n",
      "Shortest context:\n",
      "재정 정책     통화 정책\n"
     ]
    }
   ],
   "source": [
    "longest_context = df.loc[df['paragraph'].str.len().idxmax(), 'paragraph']\n",
    "shortest_context = df.loc[df['paragraph'].str.len().idxmin(), 'paragraph']\n",
    "\n",
    "print(\"Longest context:\")\n",
    "print(longest_context)\n",
    "print(\"\\nShortest context:\")\n",
    "print(shortest_context)\n"
   ]
  },
  {
   "cell_type": "code",
   "execution_count": 62,
   "metadata": {
    "colab": {
     "base_uri": "https://localhost:8080/"
    },
    "id": "NVxhx-wlMXsD",
    "outputId": "0461a0cc-7473-4b86-d36f-2454b4ae1fd4"
   },
   "outputs": [
    {
     "name": "stdout",
     "output_type": "stream",
     "text": [
      "id                                          generation-for-nlp-692\n",
      "paragraph                                          재정 정책     통화 정책\n",
      "question           다음 중 긴축적 재정 정책과 확장적 통화 정책의 조합을 나타내는 것은 어느 것입니까?\n",
      "choices          [세금 인상     국채 매각, 세금 인하     국채 매입, 정부 지출 감소   ...\n",
      "answer                                                           4\n",
      "question_plus                                                 None\n",
      "Name: 217, dtype: object\n"
     ]
    }
   ],
   "source": [
    "row = df.loc[217]\n",
    "print(row)"
   ]
  },
  {
   "cell_type": "code",
   "execution_count": 63,
   "metadata": {
    "id": "FqalJs_ca923"
   },
   "outputs": [],
   "source": [
    "# 문단 길이 계산\n",
    "paragraph_df = pd.DataFrame()\n",
    "paragraph_df = df['paragraph'].str.len()\n"
   ]
  },
  {
   "cell_type": "code",
   "execution_count": 64,
   "metadata": {},
   "outputs": [
    {
     "name": "stdout",
     "output_type": "stream",
     "text": [
      "Requirement already satisfied: seaborn in /opt/conda/lib/python3.10/site-packages (0.13.2)\n",
      "Requirement already satisfied: numpy!=1.24.0,>=1.20 in /opt/conda/lib/python3.10/site-packages (from seaborn) (1.26.0)\n",
      "Requirement already satisfied: pandas>=1.2 in /opt/conda/lib/python3.10/site-packages (from seaborn) (2.2.3)\n",
      "Requirement already satisfied: matplotlib!=3.6.1,>=3.4 in /opt/conda/lib/python3.10/site-packages (from seaborn) (3.9.2)\n",
      "Requirement already satisfied: contourpy>=1.0.1 in /opt/conda/lib/python3.10/site-packages (from matplotlib!=3.6.1,>=3.4->seaborn) (1.3.0)\n",
      "Requirement already satisfied: cycler>=0.10 in /opt/conda/lib/python3.10/site-packages (from matplotlib!=3.6.1,>=3.4->seaborn) (0.12.1)\n",
      "Requirement already satisfied: fonttools>=4.22.0 in /opt/conda/lib/python3.10/site-packages (from matplotlib!=3.6.1,>=3.4->seaborn) (4.54.1)\n",
      "Requirement already satisfied: kiwisolver>=1.3.1 in /opt/conda/lib/python3.10/site-packages (from matplotlib!=3.6.1,>=3.4->seaborn) (1.4.7)\n",
      "Requirement already satisfied: packaging>=20.0 in /opt/conda/lib/python3.10/site-packages (from matplotlib!=3.6.1,>=3.4->seaborn) (23.1)\n",
      "Requirement already satisfied: pillow>=8 in /opt/conda/lib/python3.10/site-packages (from matplotlib!=3.6.1,>=3.4->seaborn) (9.4.0)\n",
      "Requirement already satisfied: pyparsing>=2.3.1 in /opt/conda/lib/python3.10/site-packages (from matplotlib!=3.6.1,>=3.4->seaborn) (3.2.0)\n",
      "Requirement already satisfied: python-dateutil>=2.7 in /opt/conda/lib/python3.10/site-packages (from matplotlib!=3.6.1,>=3.4->seaborn) (2.9.0.post0)\n",
      "Requirement already satisfied: pytz>=2020.1 in /opt/conda/lib/python3.10/site-packages (from pandas>=1.2->seaborn) (2023.3.post1)\n",
      "Requirement already satisfied: tzdata>=2022.7 in /opt/conda/lib/python3.10/site-packages (from pandas>=1.2->seaborn) (2024.2)\n",
      "Requirement already satisfied: six>=1.5 in /opt/conda/lib/python3.10/site-packages (from python-dateutil>=2.7->matplotlib!=3.6.1,>=3.4->seaborn) (1.16.0)\n",
      "\u001b[33mWARNING: Running pip as the 'root' user can result in broken permissions and conflicting behaviour with the system package manager. It is recommended to use a virtual environment instead: https://pip.pypa.io/warnings/venv\u001b[0m\u001b[33m\n",
      "\u001b[0mNote: you may need to restart the kernel to use updated packages.\n"
     ]
    }
   ],
   "source": [
    "pip install seaborn\n"
   ]
  },
  {
   "cell_type": "code",
   "execution_count": 65,
   "metadata": {
    "colab": {
     "base_uri": "https://localhost:8080/",
     "height": 564
    },
    "id": "-XplWaFDa7dw",
    "outputId": "6a4d76e9-c507-4b6a-ae14-b854c0e48920"
   },
   "outputs": [
    {
     "data": {
      "image/png": "[encoded data removed]",
      "text/plain": [
       "<Figure size 1000x600 with 1 Axes>"
      ]
     },
     "metadata": {},
     "output_type": "display_data"
    }
   ],
   "source": [
    "import matplotlib.pyplot as plt\n",
    "import seaborn as sns\n",
    "\n",
    "# 히스토그램 및 KDE 시각화\n",
    "plt.figure(figsize=(10, 6))\n",
    "sns.histplot(paragraph_df, bins=20, kde=True, color='skyblue', edgecolor='black')\n",
    "plt.title('Distribution of paragraph Lengths')\n",
    "plt.xlabel('paragraph Length')\n",
    "plt.show()"
   ]
  },
  {
   "cell_type": "code",
   "execution_count": 66,
   "metadata": {
    "colab": {
     "base_uri": "https://localhost:8080/",
     "height": 597
    },
    "id": "Gd-PTNDBVaMi",
    "outputId": "7a94da55-a3dc-4d2b-ded0-d857afdaa9c2"
   },
   "outputs": [
    {
     "data": {
      "text/html": [
       "<div>\n",
       "<style scoped>\n",
       "    .dataframe tbody tr th:only-of-type {\n",
       "        vertical-align: middle;\n",
       "    }\n",
       "\n",
       "    .dataframe tbody tr th {\n",
       "        vertical-align: top;\n",
       "    }\n",
       "\n",
       "    .dataframe thead th {\n",
       "        text-align: right;\n",
       "    }\n",
       "</style>\n",
       "<table border=\"1\" class=\"dataframe\">\n",
       "  <thead>\n",
       "    <tr style=\"text-align: right;\">\n",
       "      <th></th>\n",
       "      <th>id</th>\n",
       "      <th>paragraph</th>\n",
       "      <th>question</th>\n",
       "      <th>choices</th>\n",
       "      <th>answer</th>\n",
       "      <th>question_plus</th>\n",
       "    </tr>\n",
       "  </thead>\n",
       "  <tbody>\n",
       "    <tr>\n",
       "      <th>157</th>\n",
       "      <td>generation-for-nlp-611</td>\n",
       "      <td>\"1500년 에라스무스가 도버에서 불행을 겪고 집필하여 마운트조이에게 헌정한 작품인...</td>\n",
       "      <td>이 지문에 나타난 정보는 무엇입니까?</td>\n",
       "      <td>[그러한 특성을 중요히 여기는 20세기 유럽인으로서의 작가의 삶, 에라스무스의 작업...</td>\n",
       "      <td>1</td>\n",
       "      <td>None</td>\n",
       "    </tr>\n",
       "    <tr>\n",
       "      <th>118</th>\n",
       "      <td>generation-for-nlp-564</td>\n",
       "      <td>\"1500년 에라스무스가 도버에서 불행을 겪고 집필하여 마운트조이에게 헌정한 작품인...</td>\n",
       "      <td>이 구절에서 에라스무스의 인본주의 유형과 가장 유사한 남부 르네상스 운동은?</td>\n",
       "      <td>[신플라톤주의, 반삼위일체론, 경건주의, 이성주의]</td>\n",
       "      <td>1</td>\n",
       "      <td>None</td>\n",
       "    </tr>\n",
       "    <tr>\n",
       "      <th>187</th>\n",
       "      <td>generation-for-nlp-657</td>\n",
       "      <td>\"공산주의라는 유령 하나가 유럽을 떠돌고 있다. 교황과 차르, 메테르니히와 기조, ...</td>\n",
       "      <td>현대 역사가들은 이 팜플렛의 출판 시기가 다음 중 어떤 사건과 시기가 일치한다고 기...</td>\n",
       "      <td>[같은 해 유럽을 휩쓴 일련의 혁명, 그리스 반도에 대한 오스만 제국의 압력 증가,...</td>\n",
       "      <td>1</td>\n",
       "      <td>None</td>\n",
       "    </tr>\n",
       "    <tr>\n",
       "      <th>137</th>\n",
       "      <td>generation-for-nlp-585</td>\n",
       "      <td>\"공산주의라는 유령 하나가 유럽을 떠돌고 있다. 교황과 차르, 메테르니히와 기조, ...</td>\n",
       "      <td>1917년 즈음 이 선전문에 있는 어떤 사상이 러시아에서 현실이 되었습니까?</td>\n",
       "      <td>[외국 동맹과 얽히는 일 피하기, 프롤레타리아에 의한 폭력적인 부르주아 타도, 강력...</td>\n",
       "      <td>2</td>\n",
       "      <td>None</td>\n",
       "    </tr>\n",
       "    <tr>\n",
       "      <th>85</th>\n",
       "      <td>generation-for-nlp-527</td>\n",
       "      <td>\"공산주의라는 유령 하나가 유럽을 떠돌고 있다. 교황과 차르, 메테르니히와 기조, ...</td>\n",
       "      <td>이 글에서 마르크스와 엥겔스가 천착하고 있는 것으로 보이는 것은 무엇입니까?</td>\n",
       "      <td>[두려움을 유발해 독자들로 하여금 행동하게 만드는 것, 운동 전체를 수포로 만들 위...</td>\n",
       "      <td>4</td>\n",
       "      <td>None</td>\n",
       "    </tr>\n",
       "    <tr>\n",
       "      <th>...</th>\n",
       "      <td>...</td>\n",
       "      <td>...</td>\n",
       "      <td>...</td>\n",
       "      <td>...</td>\n",
       "      <td>...</td>\n",
       "      <td>...</td>\n",
       "    </tr>\n",
       "    <tr>\n",
       "      <th>505</th>\n",
       "      <td>generation-for-nlp-1034</td>\n",
       "      <td>하지만 전 우리 역사의 이 특별한 순간 시민의 자유가 중요함을 누구보다 더 잘 알고...</td>\n",
       "      <td>루즈벨트의 우려는 다음 중 어떤 사안에 대해 토론한 사람들의 우려와 가장 직접 비견...</td>\n",
       "      <td>[1964년 통킹만 결의, 1965년 투표권법, 2001년 미국 애국법, 2010년...</td>\n",
       "      <td>3</td>\n",
       "      <td>None</td>\n",
       "    </tr>\n",
       "    <tr>\n",
       "      <th>615</th>\n",
       "      <td>generation-for-nlp-1170</td>\n",
       "      <td>해외 국가들은 옛날의 그 국가가 아닙니다. 그들은 증기선을 발명했고 항해술도 혁신적...</td>\n",
       "      <td>이이 주군의 염려와 가장 관련이 깊은 일본 역사의 사건 또는 시대는 무엇입니까?</td>\n",
       "      <td>[일본의 기독교 선교사 추방, 일본 황실의 중국 황실 관습 채택, 일본의 만주 합병...</td>\n",
       "      <td>4</td>\n",
       "      <td>None</td>\n",
       "    </tr>\n",
       "    <tr>\n",
       "      <th>644</th>\n",
       "      <td>generation-for-nlp-1204</td>\n",
       "      <td>해외 국가들은 옛날의 그 국가가 아닙니다. 그들은 증기선을 발명했고 항해술도 혁신적...</td>\n",
       "      <td>이 시기에 이이 주군이 제기한 우려에 일본은 어떻게 대응했습니까?</td>\n",
       "      <td>[정부가 중국 스타일의 공무원 조직 시스템을 해체함., 정부가 태평양에서 정복 프로...</td>\n",
       "      <td>3</td>\n",
       "      <td>None</td>\n",
       "    </tr>\n",
       "    <tr>\n",
       "      <th>789</th>\n",
       "      <td>generation-for-nlp-1375</td>\n",
       "      <td>화약 무기: 유럽 vs. 중국 1200년대부터 1400년대까지 서유럽의 초기 대포는...</td>\n",
       "      <td>이 구절은 세계사에 대한 어떤 전통적인 관점에 도전하고 있는가?</td>\n",
       "      <td>[중국은 항상 대부분의 아프리카-유라시아 사회보다 기술적으로 덜 발전했다, 중국의 ...</td>\n",
       "      <td>4</td>\n",
       "      <td>None</td>\n",
       "    </tr>\n",
       "    <tr>\n",
       "      <th>643</th>\n",
       "      <td>generation-for-nlp-1203</td>\n",
       "      <td>화약 무기: 유럽 vs. 중국 1200년대부터 1400년대까지 서유럽의 초기 대포는...</td>\n",
       "      <td>위 글에 따르면 중국은 화약을 발명한 장본임에도 불구하고 화약 무기 혁신을 주도하는...</td>\n",
       "      <td>[유교적 전통주의 때문에 그렇게 하지 못했음., 기존 군대의 수적 우세를 지나치게 ...</td>\n",
       "      <td>3</td>\n",
       "      <td>None</td>\n",
       "    </tr>\n",
       "  </tbody>\n",
       "</table>\n",
       "<p>282 rows × 6 columns</p>\n",
       "</div>"
      ],
      "text/plain": [
       "                          id  \\\n",
       "157   generation-for-nlp-611   \n",
       "118   generation-for-nlp-564   \n",
       "187   generation-for-nlp-657   \n",
       "137   generation-for-nlp-585   \n",
       "85    generation-for-nlp-527   \n",
       "..                       ...   \n",
       "505  generation-for-nlp-1034   \n",
       "615  generation-for-nlp-1170   \n",
       "644  generation-for-nlp-1204   \n",
       "789  generation-for-nlp-1375   \n",
       "643  generation-for-nlp-1203   \n",
       "\n",
       "                                             paragraph  \\\n",
       "157  \"1500년 에라스무스가 도버에서 불행을 겪고 집필하여 마운트조이에게 헌정한 작품인...   \n",
       "118  \"1500년 에라스무스가 도버에서 불행을 겪고 집필하여 마운트조이에게 헌정한 작품인...   \n",
       "187  \"공산주의라는 유령 하나가 유럽을 떠돌고 있다. 교황과 차르, 메테르니히와 기조, ...   \n",
       "137  \"공산주의라는 유령 하나가 유럽을 떠돌고 있다. 교황과 차르, 메테르니히와 기조, ...   \n",
       "85   \"공산주의라는 유령 하나가 유럽을 떠돌고 있다. 교황과 차르, 메테르니히와 기조, ...   \n",
       "..                                                 ...   \n",
       "505  하지만 전 우리 역사의 이 특별한 순간 시민의 자유가 중요함을 누구보다 더 잘 알고...   \n",
       "615  해외 국가들은 옛날의 그 국가가 아닙니다. 그들은 증기선을 발명했고 항해술도 혁신적...   \n",
       "644  해외 국가들은 옛날의 그 국가가 아닙니다. 그들은 증기선을 발명했고 항해술도 혁신적...   \n",
       "789  화약 무기: 유럽 vs. 중국 1200년대부터 1400년대까지 서유럽의 초기 대포는...   \n",
       "643  화약 무기: 유럽 vs. 중국 1200년대부터 1400년대까지 서유럽의 초기 대포는...   \n",
       "\n",
       "                                              question  \\\n",
       "157                               이 지문에 나타난 정보는 무엇입니까?   \n",
       "118         이 구절에서 에라스무스의 인본주의 유형과 가장 유사한 남부 르네상스 운동은?   \n",
       "187  현대 역사가들은 이 팜플렛의 출판 시기가 다음 중 어떤 사건과 시기가 일치한다고 기...   \n",
       "137         1917년 즈음 이 선전문에 있는 어떤 사상이 러시아에서 현실이 되었습니까?   \n",
       "85          이 글에서 마르크스와 엥겔스가 천착하고 있는 것으로 보이는 것은 무엇입니까?   \n",
       "..                                                 ...   \n",
       "505  루즈벨트의 우려는 다음 중 어떤 사안에 대해 토론한 사람들의 우려와 가장 직접 비견...   \n",
       "615       이이 주군의 염려와 가장 관련이 깊은 일본 역사의 사건 또는 시대는 무엇입니까?   \n",
       "644               이 시기에 이이 주군이 제기한 우려에 일본은 어떻게 대응했습니까?   \n",
       "789                이 구절은 세계사에 대한 어떤 전통적인 관점에 도전하고 있는가?   \n",
       "643  위 글에 따르면 중국은 화약을 발명한 장본임에도 불구하고 화약 무기 혁신을 주도하는...   \n",
       "\n",
       "                                               choices  answer question_plus  \n",
       "157  [그러한 특성을 중요히 여기는 20세기 유럽인으로서의 작가의 삶, 에라스무스의 작업...       1          None  \n",
       "118                       [신플라톤주의, 반삼위일체론, 경건주의, 이성주의]       1          None  \n",
       "187  [같은 해 유럽을 휩쓴 일련의 혁명, 그리스 반도에 대한 오스만 제국의 압력 증가,...       1          None  \n",
       "137  [외국 동맹과 얽히는 일 피하기, 프롤레타리아에 의한 폭력적인 부르주아 타도, 강력...       2          None  \n",
       "85   [두려움을 유발해 독자들로 하여금 행동하게 만드는 것, 운동 전체를 수포로 만들 위...       4          None  \n",
       "..                                                 ...     ...           ...  \n",
       "505  [1964년 통킹만 결의, 1965년 투표권법, 2001년 미국 애국법, 2010년...       3          None  \n",
       "615  [일본의 기독교 선교사 추방, 일본 황실의 중국 황실 관습 채택, 일본의 만주 합병...       4          None  \n",
       "644  [정부가 중국 스타일의 공무원 조직 시스템을 해체함., 정부가 태평양에서 정복 프로...       3          None  \n",
       "789  [중국은 항상 대부분의 아프리카-유라시아 사회보다 기술적으로 덜 발전했다, 중국의 ...       4          None  \n",
       "643  [유교적 전통주의 때문에 그렇게 하지 못했음., 기존 군대의 수적 우세를 지나치게 ...       3          None  \n",
       "\n",
       "[282 rows x 6 columns]"
      ]
     },
     "execution_count": 66,
     "metadata": {},
     "output_type": "execute_result"
    }
   ],
   "source": [
    "# 'paragraph' 열의 값별로 그룹화하고, 2개 이상의 행을 가진 그룹만 선택\n",
    "duplicates = df[df.duplicated(subset=['paragraph'], keep=False)]\n",
    "\n",
    "# 'paragraph' 열로 정렬하여 중복된 행들을 연속해서 볼 수 있게 함\n",
    "duplicates_sorted = duplicates.sort_values('paragraph')\n",
    "duplicates_sorted"
   ]
  },
  {
   "cell_type": "code",
   "execution_count": 71,
   "metadata": {
    "colab": {
     "base_uri": "https://localhost:8080/"
    },
    "collapsed": true,
    "id": "ML6a2zx2WUQd",
    "outputId": "62f5b428-80eb-4235-d2f1-4078c605ae92"
   },
   "outputs": [
    {
     "name": "stdout",
     "output_type": "stream",
     "text": [
      "Requirement already satisfied: datasets in /opt/conda/lib/python3.10/site-packages (3.1.0)\n",
      "Requirement already satisfied: filelock in /opt/conda/lib/python3.10/site-packages (from datasets) (3.9.0)\n",
      "Requirement already satisfied: numpy>=1.17 in /opt/conda/lib/python3.10/site-packages (from datasets) (1.26.0)\n",
      "Requirement already satisfied: pyarrow>=15.0.0 in /opt/conda/lib/python3.10/site-packages (from datasets) (18.0.0)\n",
      "Requirement already satisfied: dill<0.3.9,>=0.3.0 in /opt/conda/lib/python3.10/site-packages (from datasets) (0.3.8)\n",
      "Requirement already satisfied: pandas in /opt/conda/lib/python3.10/site-packages (from datasets) (2.2.3)\n",
      "Requirement already satisfied: requests>=2.32.2 in /opt/conda/lib/python3.10/site-packages (from datasets) (2.32.3)\n",
      "Requirement already satisfied: tqdm>=4.66.3 in /opt/conda/lib/python3.10/site-packages (from datasets) (4.67.0)\n",
      "Requirement already satisfied: xxhash in /opt/conda/lib/python3.10/site-packages (from datasets) (3.5.0)\n",
      "Requirement already satisfied: multiprocess<0.70.17 in /opt/conda/lib/python3.10/site-packages (from datasets) (0.70.16)\n",
      "Requirement already satisfied: fsspec[http]<=2024.9.0,>=2023.1.0 in /opt/conda/lib/python3.10/site-packages (from datasets) (2023.9.2)\n",
      "Requirement already satisfied: aiohttp in /opt/conda/lib/python3.10/site-packages (from datasets) (3.10.10)\n",
      "Requirement already satisfied: huggingface-hub>=0.23.0 in /opt/conda/lib/python3.10/site-packages (from datasets) (0.26.2)\n",
      "Requirement already satisfied: packaging in /opt/conda/lib/python3.10/site-packages (from datasets) (23.1)\n",
      "Requirement already satisfied: pyyaml>=5.1 in /opt/conda/lib/python3.10/site-packages (from datasets) (6.0)\n",
      "Requirement already satisfied: aiohappyeyeballs>=2.3.0 in /opt/conda/lib/python3.10/site-packages (from aiohttp->datasets) (2.4.3)\n",
      "Requirement already satisfied: aiosignal>=1.1.2 in /opt/conda/lib/python3.10/site-packages (from aiohttp->datasets) (1.3.1)\n",
      "Requirement already satisfied: attrs>=17.3.0 in /opt/conda/lib/python3.10/site-packages (from aiohttp->datasets) (23.1.0)\n",
      "Requirement already satisfied: frozenlist>=1.1.1 in /opt/conda/lib/python3.10/site-packages (from aiohttp->datasets) (1.5.0)\n",
      "Requirement already satisfied: multidict<7.0,>=4.5 in /opt/conda/lib/python3.10/site-packages (from aiohttp->datasets) (6.1.0)\n",
      "Requirement already satisfied: yarl<2.0,>=1.12.0 in /opt/conda/lib/python3.10/site-packages (from aiohttp->datasets) (1.17.1)\n",
      "Requirement already satisfied: async-timeout<5.0,>=4.0 in /opt/conda/lib/python3.10/site-packages (from aiohttp->datasets) (4.0.3)\n",
      "Requirement already satisfied: typing-extensions>=3.7.4.3 in /opt/conda/lib/python3.10/site-packages (from huggingface-hub>=0.23.0->datasets) (4.7.1)\n",
      "Requirement already satisfied: charset-normalizer<4,>=2 in /opt/conda/lib/python3.10/site-packages (from requests>=2.32.2->datasets) (2.0.4)\n",
      "Requirement already satisfied: idna<4,>=2.5 in /opt/conda/lib/python3.10/site-packages (from requests>=2.32.2->datasets) (3.4)\n",
      "Requirement already satisfied: urllib3<3,>=1.21.1 in /opt/conda/lib/python3.10/site-packages (from requests>=2.32.2->datasets) (1.26.16)\n",
      "Requirement already satisfied: certifi>=2017.4.17 in /opt/conda/lib/python3.10/site-packages (from requests>=2.32.2->datasets) (2023.7.22)\n",
      "Requirement already satisfied: python-dateutil>=2.8.2 in /opt/conda/lib/python3.10/site-packages (from pandas->datasets) (2.9.0.post0)\n",
      "Requirement already satisfied: pytz>=2020.1 in /opt/conda/lib/python3.10/site-packages (from pandas->datasets) (2023.3.post1)\n",
      "Requirement already satisfied: tzdata>=2022.7 in /opt/conda/lib/python3.10/site-packages (from pandas->datasets) (2024.2)\n",
      "Requirement already satisfied: six>=1.5 in /opt/conda/lib/python3.10/site-packages (from python-dateutil>=2.8.2->pandas->datasets) (1.16.0)\n",
      "Requirement already satisfied: propcache>=0.2.0 in /opt/conda/lib/python3.10/site-packages (from yarl<2.0,>=1.12.0->aiohttp->datasets) (0.2.0)\n",
      "\u001b[33mWARNING: Running pip as the 'root' user can result in broken permissions and conflicting behaviour with the system package manager. It is recommended to use a virtual environment instead: https://pip.pypa.io/warnings/venv\u001b[0m\u001b[33m\n",
      "\u001b[0mNote: you may need to restart the kernel to use updated packages.\n"
     ]
    }
   ],
   "source": [
    "pip install --upgrade datasets"
   ]
  },
  {
   "cell_type": "code",
   "execution_count": 72,
   "metadata": {
    "id": "xNSXfwP_U1zF"
   },
   "outputs": [],
   "source": [
    "import sys\n",
    "from datasets import Dataset"
   ]
  },
  {
   "cell_type": "code",
   "execution_count": 73,
   "metadata": {
    "id": "DSgBgLIWUrsh"
   },
   "outputs": [],
   "source": [
    "dataset = Dataset.from_pandas(df)"
   ]
  },
  {
   "cell_type": "code",
   "execution_count": 74,
   "metadata": {
    "colab": {
     "base_uri": "https://localhost:8080/"
    },
    "id": "7MwXB_ljWkTX",
    "outputId": "7b037499-1c5f-49b2-c7a7-fb6ff2a7d3d2"
   },
   "outputs": [
    {
     "data": {
      "text/plain": [
       "Dataset({\n",
       "    features: ['id', 'paragraph', 'question', 'choices', 'answer', 'question_plus'],\n",
       "    num_rows: 2031\n",
       "})"
      ]
     },
     "execution_count": 74,
     "metadata": {},
     "output_type": "execute_result"
    }
   ],
   "source": [
    "dataset"
   ]
  },
  {
   "cell_type": "code",
   "execution_count": 75,
   "metadata": {
    "id": "Yf_QFHnIW_Rc"
   },
   "outputs": [],
   "source": [
    "PROMPT_NO_QUESTION_PLUS = \"\"\"지문:\n",
    "{paragraph}\n",
    "\n",
    "질문:\n",
    "{question}\n",
    "\n",
    "선택지:\n",
    "{choices}\n",
    "\n",
    "1, 2, 3, 4, 5 중에 하나를 정답으로 고르세요.\n",
    "정답:\"\"\"\n",
    "\n",
    "PROMPT_QUESTION_PLUS = \"\"\"지문:\n",
    "{paragraph}\n",
    "\n",
    "질문:\n",
    "{question}\n",
    "\n",
    "<보기>:\n",
    "{question_plus}\n",
    "\n",
    "선택지:\n",
    "{choices}\n",
    "\n",
    "1, 2, 3, 4, 5 중에 하나를 정답으로 고르세요.\n",
    "정답:\"\"\""
   ]
  },
  {
   "cell_type": "code",
   "execution_count": 76,
   "metadata": {
    "id": "BQbUhGXpWlvs"
   },
   "outputs": [],
   "source": [
    "processed_dataset = []\n",
    "for i in range(len(dataset)):\n",
    "    choices_string = \"\\n\".join([f\"{idx + 1} - {choice}\" for idx, choice in enumerate(dataset[i][\"choices\"])])\n",
    "\n",
    "    # <보기>가 있을 때\n",
    "    if dataset[i][\"question_plus\"]:\n",
    "        user_message = PROMPT_QUESTION_PLUS.format(\n",
    "            paragraph=dataset[i][\"paragraph\"],\n",
    "            question=dataset[i][\"question\"],\n",
    "            question_plus=dataset[i][\"question_plus\"],\n",
    "            choices=choices_string,\n",
    "        )\n",
    "    # <보기>가 없을 때\n",
    "    else:\n",
    "        user_message = PROMPT_NO_QUESTION_PLUS.format(\n",
    "            paragraph=dataset[i][\"paragraph\"],\n",
    "            question=dataset[i][\"question\"],\n",
    "            choices=choices_string,\n",
    "        )\n",
    "\n",
    "    # chat message 형식으로 변환\n",
    "    processed_dataset.append(\n",
    "        {\n",
    "            \"id\": dataset[i][\"id\"],\n",
    "            \"messages\": [\n",
    "                {\"role\": \"system\", \"content\": \"지문을 읽고 질문의 답을 구하세요.\"},\n",
    "                {\"role\": \"user\", \"content\": user_message},\n",
    "                {\"role\": \"assistant\", \"content\": f\"{dataset[i]['answer']}\"}\n",
    "            ],\n",
    "            \"label\": dataset[i][\"answer\"],\n",
    "        }\n",
    "    )\n"
   ]
  },
  {
   "cell_type": "code",
   "execution_count": 77,
   "metadata": {
    "colab": {
     "base_uri": "https://localhost:8080/"
    },
    "id": "yvnS70pgXFZO",
    "outputId": "6c9ab3a9-e71d-491a-9b2a-3c80b8c55ad9"
   },
   "outputs": [
    {
     "data": {
      "text/plain": [
       "{'id': 'generation-for-nlp-425',\n",
       " 'messages': [{'role': 'system', 'content': '지문을 읽고 질문의 답을 구하세요.'},\n",
       "  {'role': 'user',\n",
       "   'content': '지문:\\n상소하여 아뢰기를 , “신이 좌참 찬 송준길이 올린 차자를 보았는데 , 상복(喪服) 절차에 대하여 논한 것이 신과는 큰 차이가 있었습니다 . 장자를 위하여 3년을 입는 까닭은 위로 ‘정체(正體)’가 되기 때문이고 또 전 중(傳重: 조상의 제사나 가문의 법통을 전함)하기 때문입니다 . …(중략) … 무엇보다 중요한 것은 할아버지와 아버지의 뒤를 이은 ‘정체’이지, 꼭 첫째이기 때문에 참 최 3년 복을 입는 것은 아닙니다 .”라고 하였다 .－현종실록 －ㄱ.기 사환국으로 정권을 장악하였다 .ㄴ.인 조반정을 주도 하여 집권세력이 되었다 .ㄷ.정조 시기에 탕평 정치의 한 축을 이루었다 .ㄹ.이 이와 성혼의 문인을 중심으로 형성되었다.\\n\\n질문:\\n상소한 인물이 속한 붕당에 대한 설명으로 옳은 것만을 모두 고르면?\\n\\n선택지:\\n1 - ㄱ, ㄴ\\n2 - ㄱ, ㄷ\\n3 - ㄴ, ㄹ\\n4 - ㄷ, ㄹ\\n\\n1, 2, 3, 4, 5 중에 하나를 정답으로 고르세요.\\n정답:'},\n",
       "  {'role': 'assistant', 'content': '2'}],\n",
       " 'label': 2}"
      ]
     },
     "execution_count": 77,
     "metadata": {},
     "output_type": "execute_result"
    }
   ],
   "source": [
    "processed_dataset[0]"
   ]
  },
  {
   "cell_type": "code",
   "execution_count": 78,
   "metadata": {
    "colab": {
     "base_uri": "https://localhost:8080/"
    },
    "id": "k4z_TjmsXHrK",
    "outputId": "a2cb94a3-1f5d-41a9-b20d-684a569c494d"
   },
   "outputs": [
    {
     "data": {
      "text/plain": [
       "Dataset({\n",
       "    features: ['id', 'messages', 'label'],\n",
       "    num_rows: 2031\n",
       "})"
      ]
     },
     "execution_count": 78,
     "metadata": {},
     "output_type": "execute_result"
    }
   ],
   "source": [
    "processed_dataset = Dataset.from_pandas(pd.DataFrame(processed_dataset))\n",
    "processed_dataset"
   ]
  },
  {
   "cell_type": "code",
   "execution_count": 79,
   "metadata": {
    "id": "Y6k9fOK5XgGj"
   },
   "outputs": [],
   "source": [
    "from transformers import AutoModelForCausalLM, AutoTokenizer, BitsAndBytesConfig"
   ]
  },
  {
   "cell_type": "code",
   "execution_count": 80,
   "metadata": {
    "colab": {
     "base_uri": "https://localhost:8080/",
     "height": 255,
     "referenced_widgets": [
      "0ba53d993b8248eebcda4c3accb0178d",
      "bbbb89d45cbd4b9f80ea194e28279c91",
      "b649fb62e3a94108bbf021f736a51411",
      "f56e81fb31c842e2854fd92c822ce95c",
      "364c03accdc94a40a5213c349454a034",
      "5c0146fb497c408c82015bc24594ce67",
      "729a07f3e22d418ea0137a077992d4f5",
      "350a954de0834529a63f7e5e215e35d7",
      "8213d9bca40242d4a6ca4159fca4857f",
      "9b1933af936b44ba9410d3729e386261",
      "8bf29ecc960449f9bde12dc2049899aa",
      "1ff6fdc76a654ba18ec093e87758653a",
      "dd17f975571342c1b404df0176d67474",
      "1c90b238640847cfb741aea3a065ae4b",
      "20b1542402264e278d471f6b53a8db5a",
      "4122c470445c47a6b833fc0cc437bf87",
      "b20beb2f3d2a4fc9953eb94ff1187bf2",
      "f5969c3b6de142fbb7d920944daaa059",
      "a252716af6344d9eaf73933007e02f4f",
      "c0739ebfb9544922be581b441aaa4db8",
      "25a964ad7063407791fd011bcbcb51a8",
      "99e9b4ed5b8647b1bea8cf2fa6240000",
      "8426cb6c5066451084bfa307049d887e",
      "6159f6ccbe90414bb1b3558e6b8c5b64",
      "5cd2ca43898e40aba895c11af7c700f4",
      "2fb4c4103083476fa4a993392255e45b",
      "08a3fd77fbed4d5090a170f01707dd2d",
      "6faf4e5651914d468646a7a8ce589b97",
      "0d6aff8f2c1f4e8da06bbf1b9a3f68cd",
      "974952e7d66c49b581205ca73533d0bb",
      "1fa9d7b8d43947f4883579547eadc94c",
      "e178a04c2f334afc887ad542f8d3ffee",
      "cca7029c40874015b01c2fe1a9a6e599",
      "5193ac096fb8465caeea263ce24db460",
      "e973377bc39542d6af22ee48125cb18f",
      "3f933e18e87e4e758bfa94f95c6f4b67",
      "7305d068ca70498694eb51265c500475",
      "083d924358a24ca2b4266227876cba03",
      "f70be9457ef342d7919a2c675ff50bba",
      "48fa3c1bd847463ebc1c0f8a9fbf9dc6",
      "c291408f8d664acb99d52ecca5fdaf22",
      "bc5ca09a79ae44eb9b2a8a520706cfa4",
      "5818f970de6b4022b9cdacb16bfde58c",
      "3ca6299aa3a34fad8aff01c5edcf4d2e"
     ]
    },
    "id": "ZeHtFO3WXbY1",
    "outputId": "2eef4e54-b0ad-4af7-abb6-920eabc49e98"
   },
   "outputs": [],
   "source": [
    "tokenizer = AutoTokenizer.from_pretrained(\n",
    "    \"beomi/gemma-ko-2b\",\n",
    "    trust_remote_code=True,\n",
    ")"
   ]
  },
  {
   "cell_type": "code",
   "execution_count": 81,
   "metadata": {},
   "outputs": [
    {
     "name": "stdout",
     "output_type": "stream",
     "text": [
      "\n",
      "Dataset Information:\n",
      "<class 'pandas.core.frame.DataFrame'>\n",
      "RangeIndex: 2031 entries, 0 to 2030\n",
      "Data columns (total 6 columns):\n",
      " #   Column         Non-Null Count  Dtype \n",
      "---  ------         --------------  ----- \n",
      " 0   id             2031 non-null   object\n",
      " 1   paragraph      2031 non-null   object\n",
      " 2   question       2031 non-null   object\n",
      " 3   choices        2031 non-null   object\n",
      " 4   answer         2031 non-null   int64 \n",
      " 5   question_plus  0 non-null      object\n",
      "dtypes: int64(1), object(5)\n",
      "memory usage: 95.3+ KB\n"
     ]
    }
   ],
   "source": [
    "print(\"\\nDataset Information:\")\n",
    "df.info()"
   ]
  },
  {
   "cell_type": "code",
   "execution_count": 82,
   "metadata": {},
   "outputs": [],
   "source": [
    "tokenizer.chat_template = \"{% if messages[0]['role'] == 'system' %}{% set system_message = messages[0]['content'] %}{% endif %}{% if system_message is defined %}{{ system_message }}{% endif %}{% for message in messages %}{% set content = message['content'] %}{% if message['role'] == 'user' %}{{ '<start_of_turn>user\\n' + content + '<end_of_turn>\\n<start_of_turn>model\\n' }}{% elif message['role'] == 'assistant' %}{{ content + '<end_of_turn>\\n' }}{% endif %}{% endfor %}\""
   ]
  },
  {
   "cell_type": "code",
   "execution_count": 83,
   "metadata": {
    "colab": {
     "base_uri": "https://localhost:8080/",
     "height": 1000,
     "referenced_widgets": [
      "5770aa23bb0243fb9069eee6b349ab04",
      "1ab4a8e4e6cc4ffd9eca21692d8fa5c5",
      "b9105dac30b347e4ba4ebc227a052104",
      "954e8f12dd4b4871bcb6f2d69570622d",
      "a11e40534303443da016f18d8da9e714",
      "4488bfb0ea004300b20c2fa4d2ec9b9d",
      "e6ee6ae4d57b474eac92d44df828a38e",
      "f1cf53175fb446198fb821652c20162d",
      "0d2a9ff30d984ad7976a66028f2baa3b",
      "343c670d452147828f8baa82cc4a013d",
      "75e6ccf6d0dc476d84775dd8e61d100b"
     ]
    },
    "id": "vSzslO1oXVxi",
    "outputId": "de6494a7-3606-490d-b355-e43ae2bbe095"
   },
   "outputs": [
    {
     "data": {
      "application/vnd.jupyter.widget-view+json": {
       "model_id": "38dc0da7f03e48a1ae06fcaf137f6cb8",
       "version_major": 2,
       "version_minor": 0
      },
      "text/plain": [
       "Tokenizing (num_proc=4):   0%|          | 0/2031 [00:00<?, ? examples/s]"
      ]
     },
     "metadata": {},
     "output_type": "display_data"
    }
   ],
   "source": [
    "def formatting_prompts_func(example):\n",
    "    output_texts = []\n",
    "    for i in range(len(example[\"messages\"])):\n",
    "        output_texts.append(\n",
    "            tokenizer.apply_chat_template(\n",
    "                example[\"messages\"][i],\n",
    "                tokenize=False,\n",
    "            )\n",
    "        )\n",
    "    return output_texts\n",
    "\n",
    "def tokenize(element):\n",
    "    outputs = tokenizer(\n",
    "        formatting_prompts_func(element),\n",
    "        truncation=False,\n",
    "        padding=False,\n",
    "        return_overflowing_tokens=False,\n",
    "        return_length=False,\n",
    "    )\n",
    "    return {\n",
    "        \"input_ids\": outputs[\"input_ids\"],\n",
    "        \"attention_mask\": outputs[\"attention_mask\"],\n",
    "    }\n",
    "\n",
    "# 데이터 토큰화\n",
    "tokenized_dataset = processed_dataset.map(\n",
    "    tokenize,\n",
    "    remove_columns=list(processed_dataset.features),\n",
    "    batched=True,\n",
    "    num_proc=4,\n",
    "    load_from_cache_file=True,\n",
    "    desc=\"Tokenizing\",\n",
    ")"
   ]
  },
  {
   "cell_type": "code",
   "execution_count": 84,
   "metadata": {},
   "outputs": [
    {
     "name": "stdout",
     "output_type": "stream",
     "text": [
      "전체 샘플 수: 2031\n"
     ]
    }
   ],
   "source": [
    "total_samples = len(tokenized_dataset)\n",
    "print(f\"전체 샘플 수: {total_samples}\")"
   ]
  },
  {
   "cell_type": "code",
   "execution_count": 85,
   "metadata": {},
   "outputs": [
    {
     "data": {
      "application/vnd.jupyter.widget-view+json": {
       "model_id": "075efb32dbfb4b82b82924b193bfd58a",
       "version_major": 2,
       "version_minor": 0
      },
      "text/plain": [
       "Filter:   0%|          | 0/2031 [00:00<?, ? examples/s]"
      ]
     },
     "metadata": {},
     "output_type": "display_data"
    },
    {
     "name": "stdout",
     "output_type": "stream",
     "text": [
      "1024 토큰 초과 샘플 수: 367\n"
     ]
    }
   ],
   "source": [
    "long_samples = tokenized_dataset.filter(lambda x: len(x[\"input_ids\"]) > 1024)\n",
    "long_samples_count = len(long_samples)\n",
    "print(f\"1024 토큰 초과 샘플 수: {long_samples_count}\")"
   ]
  },
  {
   "cell_type": "code",
   "execution_count": 86,
   "metadata": {},
   "outputs": [
    {
     "name": "stdout",
     "output_type": "stream",
     "text": [
      "1024 토큰 초과 샘플 비율: 18.07%\n"
     ]
    }
   ],
   "source": [
    "long_samples_ratio = (long_samples_count / total_samples) * 100\n",
    "print(f\"1024 토큰 초과 샘플 비율: {long_samples_ratio:.2f}%\")"
   ]
  },
  {
   "cell_type": "code",
   "execution_count": 87,
   "metadata": {},
   "outputs": [
    {
     "data": {
      "image/png": "[encoded data removed]",
      "text/plain": [
       "<Figure size 1000x600 with 1 Axes>"
      ]
     },
     "metadata": {},
     "output_type": "display_data"
    }
   ],
   "source": [
    "import matplotlib.pyplot as plt\n",
    "\n",
    "token_lengths = [len(sample[\"input_ids\"]) for sample in tokenized_dataset]\n",
    "\n",
    "plt.figure(figsize=(10, 6))\n",
    "plt.hist(token_lengths, bins=50, edgecolor='black')\n",
    "plt.title('Token Length Distribution')\n",
    "plt.xlabel('token length')\n",
    "plt.ylabel('samples')\n",
    "plt.axvline(x=1024, color='r', linestyle='--', label='token baseline')\n",
    "plt.legend()\n",
    "plt.show()"
   ]
  },
  {
   "cell_type": "markdown",
   "metadata": {
    "id": "SlrSmfrue84K"
   },
   "source": [
    "# 정리\n",
    "중복된 지문 282 rows 존재\n",
    "\n",
    "결측치(문자열, 공백, NULL,특수문자) 확인결과 결측치 X\n",
    "\n",
    "지문 길이의 분포도 paragraph(지문) length 2000자가 제일 적은 상태로 보임"
   ]
  },
  {
   "cell_type": "code",
   "execution_count": 88,
   "metadata": {
    "id": "4oIcbjfhghaO"
   },
   "outputs": [
    {
     "data": {
      "text/plain": [
       "'\\n주제별 분석\\nparagraph에서 특정 시대나 주제를 추출하여 분류\\n주제별 문제 유형 및 난이도 분석\\n\\n국어와 사회 문제의 데이터 밸런스를 맞춰 제작(주제 분류가 필요한가?)\\n\\n\\n국어 영역\\n독서, 문학 기본\\n선택\\n(화법, 작문), (언어, 매체)\\n\\n사회탐구 영역 8개 중에 두가지 영역 선택\\n생활과 윤리, 윤리와 사상, 한국지리, 세계지리, 동아시아사, 세계사, 경제, 정치와 법, 사회･문화의 과목으로 구성된다.\\n'"
      ]
     },
     "execution_count": 88,
     "metadata": {},
     "output_type": "execute_result"
    }
   ],
   "source": [
    "# 추가 확인 해볼 것들\n",
    "'''\n",
    "주제별 분석\n",
    "paragraph에서 특정 시대나 주제를 추출하여 분류\n",
    "주제별 문제 유형 및 난이도 분석\n",
    "\n",
    "국어와 사회 문제의 데이터 밸런스를 맞춰 제작(주제 분류가 필요한가?)\n",
    "\n",
    "\n",
    "국어 영역\n",
    "독서, 문학 기본\n",
    "선택\n",
    "(화법, 작문), (언어, 매체)\n",
    "\n",
    "사회탐구 영역 8개 중에 두가지 영역 선택\n",
    "생활과 윤리, 윤리와 사상, 한국지리, 세계지리, 동아시아사, 세계사, 경제, 정치와 법, 사회･문화의 과목으로 구성된다.\n",
    "'''"
   ]
  },
  {
   "cell_type": "code",
   "execution_count": 89,
   "metadata": {
    "colab": {
     "base_uri": "https://localhost:8080/"
    },
    "id": "Jrs7UamokbPt",
    "outputId": "df1e0ba5-a810-48e2-e57a-a5e2d39bccbd"
   },
   "outputs": [
    {
     "name": "stdout",
     "output_type": "stream",
     "text": [
      "Collecting konlpy\n",
      "  Obtaining dependency information for konlpy from https://files.pythonhosted.org/packages/5a/95/896914d9461c12f07e6f8afb1f7462e28395fc46b54fcbb96f1ea3cff8fb/konlpy-0.6.0-py2.py3-none-any.whl.metadata\n",
      "  Downloading konlpy-0.6.0-py2.py3-none-any.whl.metadata (1.9 kB)\n",
      "Collecting JPype1>=0.7.0 (from konlpy)\n",
      "  Obtaining dependency information for JPype1>=0.7.0 from https://files.pythonhosted.org/packages/74/98/d6517002355b0585d0e66f7b0283c7f6e2271c898a886e1ebac09836b100/JPype1-1.5.0-cp310-cp310-manylinux_2_17_x86_64.manylinux2014_x86_64.whl.metadata\n",
      "  Downloading JPype1-1.5.0-cp310-cp310-manylinux_2_17_x86_64.manylinux2014_x86_64.whl.metadata (4.9 kB)\n",
      "Collecting lxml>=4.1.0 (from konlpy)\n",
      "  Obtaining dependency information for lxml>=4.1.0 from https://files.pythonhosted.org/packages/05/9e/87492d03ff604fbf656ed2bf3e2e8d28f5d58ea1f00ff27ac27b06509079/lxml-5.3.0-cp310-cp310-manylinux_2_28_x86_64.whl.metadata\n",
      "  Downloading lxml-5.3.0-cp310-cp310-manylinux_2_28_x86_64.whl.metadata (3.8 kB)\n",
      "Requirement already satisfied: numpy>=1.6 in /opt/conda/lib/python3.10/site-packages (from konlpy) (1.26.0)\n",
      "Requirement already satisfied: packaging in /opt/conda/lib/python3.10/site-packages (from JPype1>=0.7.0->konlpy) (23.1)\n",
      "Downloading konlpy-0.6.0-py2.py3-none-any.whl (19.4 MB)\n",
      "\u001b[2K   \u001b[90m━━━━━━━━━━━━━━━━━━━━━━━━━━━━━━━━━━━━━━━━\u001b[0m \u001b[32m19.4/19.4 MB\u001b[0m \u001b[31m9.8 MB/s\u001b[0m eta \u001b[36m0:00:00\u001b[0m:00:01\u001b[0m00:01\u001b[0m\n",
      "\u001b[?25hDownloading JPype1-1.5.0-cp310-cp310-manylinux_2_17_x86_64.manylinux2014_x86_64.whl (488 kB)\n",
      "\u001b[2K   \u001b[90m━━━━━━━━━━━━━━━━━━━━━━━━━━━━━━━━━━━━━━━━\u001b[0m \u001b[32m488.6/488.6 kB\u001b[0m \u001b[31m29.2 MB/s\u001b[0m eta \u001b[36m0:00:00\u001b[0m\n",
      "\u001b[?25hDownloading lxml-5.3.0-cp310-cp310-manylinux_2_28_x86_64.whl (5.0 MB)\n",
      "\u001b[2K   \u001b[90m━━━━━━━━━━━━━━━━━━━━━━━━━━━━━━━━━━━━━━━━\u001b[0m \u001b[32m5.0/5.0 MB\u001b[0m \u001b[31m11.5 MB/s\u001b[0m eta \u001b[36m0:00:00\u001b[0m00:01\u001b[0m00:01\u001b[0m\n",
      "\u001b[?25hInstalling collected packages: lxml, JPype1, konlpy\n",
      "Successfully installed JPype1-1.5.0 konlpy-0.6.0 lxml-5.3.0\n",
      "\u001b[33mWARNING: Running pip as the 'root' user can result in broken permissions and conflicting behaviour with the system package manager. It is recommended to use a virtual environment instead: https://pip.pypa.io/warnings/venv\u001b[0m\u001b[33m\n",
      "\u001b[0mNote: you may need to restart the kernel to use updated packages.\n"
     ]
    }
   ],
   "source": [
    "pip install konlpy"
   ]
  },
  {
   "cell_type": "code",
   "execution_count": 90,
   "metadata": {
    "id": "UH9XetnjghhR"
   },
   "outputs": [],
   "source": [
    "from konlpy.tag import Okt\n",
    "from collections import Counter\n"
   ]
  },
  {
   "cell_type": "code",
   "execution_count": 91,
   "metadata": {
    "id": "Ohj7kblGghkF"
   },
   "outputs": [],
   "source": [
    "# Convert to DataFrame\n",
    "df = pd.DataFrame(records)"
   ]
  },
  {
   "cell_type": "code",
   "execution_count": null,
   "metadata": {
    "id": "aiHzFLY4kmdr"
   },
   "outputs": [],
   "source": [
    "okt = Okt() # 형태소 초기화"
   ]
  },
  {
   "cell_type": "code",
   "execution_count": null,
   "metadata": {
    "id": "NAVtmj_SkppR"
   },
   "outputs": [],
   "source": [
    "# 불용어 리스트 (필요에 따라 확장 예정)\n",
    "stop_words = ['이', '그', '저', '것', '수', '등', '및', '에서', '그리고', '있다', '하다']"
   ]
  },
  {
   "cell_type": "code",
   "execution_count": null,
   "metadata": {
    "id": "eaQsBA7-kzYK"
   },
   "outputs": [],
   "source": [
    "def preprocess_text(text):\n",
    "    # 형태소 분석 및 명사 추출\n",
    "    nouns = okt.nouns(text)\n",
    "    # 불용어 제거 및 길이가 1인 단어 제거\n",
    "    nouns = [word for word in nouns if word not in stop_words and len(word) > 1]\n",
    "    return nouns"
   ]
  },
  {
   "cell_type": "code",
   "execution_count": null,
   "metadata": {
    "colab": {
     "base_uri": "https://localhost:8080/",
     "height": 336
    },
    "collapsed": true,
    "id": "R66efNeek4G7",
    "outputId": "1b8123c6-597c-41a3-8e0c-c8aca651f39b"
   },
   "outputs": [],
   "source": [
    "all_nouns = []\n",
    "for text in df['paragraph']:\n",
    "    all_nouns.extend(preprocess_text(text))"
   ]
  },
  {
   "cell_type": "code",
   "execution_count": null,
   "metadata": {
    "id": "nKPpurVDlTzF"
   },
   "outputs": [],
   "source": [
    "# 단어 빈도 계산\n",
    "word_freq = Counter(all_nouns)\n",
    "\n",
    "# 상위 단어 추출\n",
    "top_words = dict(word_freq.most_common(10))"
   ]
  },
  {
   "cell_type": "code",
   "execution_count": null,
   "metadata": {
    "collapsed": true,
    "id": "yEte4kFYlb9r"
   },
   "outputs": [],
   "source": [
    "top_words"
   ]
  },
  {
   "cell_type": "markdown",
   "metadata": {
    "id": "7ZUoDC41cnxz"
   },
   "source": [
    "---\n",
    "# choices에 대한 결측치"
   ]
  },
  {
   "cell_type": "code",
   "execution_count": null,
   "metadata": {
    "colab": {
     "base_uri": "https://localhost:8080/"
    },
    "id": "FTM09xXkaWsP",
    "outputId": "5a2c0d40-ea53-4085-c640-d074838fcc38"
   },
   "outputs": [
    {
     "name": "stdout",
     "output_type": "stream",
     "text": [
      "선택지 개수별 빈도:\n",
      "choices\n",
      "4    282\n",
      "Name: count, dtype: int64\n",
      "\n",
      "선택지 개수별 백분율:\n",
      "choices\n",
      "4    100.0\n",
      "Name: count, dtype: float64\n",
      "\n",
      "요약 통계:\n",
      "count    282.0\n",
      "mean       4.0\n",
      "std        0.0\n",
      "min        4.0\n",
      "25%        4.0\n",
      "50%        4.0\n",
      "75%        4.0\n",
      "max        4.0\n",
      "Name: choices, dtype: float64\n",
      "\n",
      "4지선다 비율: 100.00%\n",
      "5지선다 비율: 0.00%\n"
     ]
    }
   ],
   "source": [
    "# 전체 데이터프레임의 'choices' 열에 대해 선택지 개수 확인\n",
    "choices_counts = duplicates_sorted['choices'].apply(len)\n",
    "\n",
    "# 선택지 개수별 빈도 확인\n",
    "frequency = choices_counts.value_counts().sort_index()\n",
    "print(\"선택지 개수별 빈도:\")\n",
    "print(frequency)\n",
    "\n",
    "# 백분율 계산\n",
    "percentage = (frequency / len(duplicates_sorted)) * 100\n",
    "print(\"\\n선택지 개수별 백분율:\")\n",
    "print(percentage)\n",
    "\n",
    "# 요약 통계\n",
    "print(\"\\n요약 통계:\")\n",
    "print(choices_counts.describe())\n",
    "\n",
    "# 4지선다와 5지선다의 비율\n",
    "four_choices = (choices_counts == 4).sum()\n",
    "five_choices = (choices_counts == 5).sum()\n",
    "total = len(choices_counts)\n",
    "\n",
    "print(f\"\\n4지선다 비율: {four_choices/total:.2%}\")\n",
    "print(f\"5지선다 비율: {five_choices/total:.2%}\")"
   ]
  },
  {
   "cell_type": "code",
   "execution_count": null,
   "metadata": {
    "id": "UfpR841WbjOT"
   },
   "outputs": [],
   "source": [
    "#choices 자체에 이미 4지선다로 이루어져 있음\n",
    "#추후 데이터 증강 및 데이터 수정시\n",
    "#증강으로 5지선다 정답 값을 늘릴 것인지 혹은 4지선다를 5지선다로 늘려 정답값 위치를 수정할 것인지"
   ]
  },
  {
   "cell_type": "code",
   "execution_count": null,
   "metadata": {
    "id": "n8CIw_1wV4SX"
   },
   "outputs": [],
   "source": [
    "# 'duplicate_paragraphs' 데이터프레임을 CSV 파일로 저장\n",
    "duplicates_sorted.to_csv('duplicate_paragraphs.csv', index=False, encoding='utf-8-sig')"
   ]
  },
  {
   "cell_type": "markdown",
   "metadata": {
    "id": "KFrzG2pQctpX"
   },
   "source": [
    "---"
   ]
  },
  {
   "cell_type": "markdown",
   "metadata": {},
   "source": [
    "# 문제 유형 분석(question열)"
   ]
  },
  {
   "cell_type": "code",
   "execution_count": 151,
   "metadata": {
    "id": "XOPrIGqmRhyl"
   },
   "outputs": [],
   "source": [
    "import pandas as pd\n",
    "import re\n",
    "from collections import Counter\n",
    "import matplotlib.pyplot as plt\n",
    "\n",
    "# 데이터 로드 (CSV 파일로 저장되어 있다고 가정)\n",
    "df = pd.DataFrame(records)"
   ]
  },
  {
   "cell_type": "markdown",
   "metadata": {},
   "source": [
    "### Question 등장 횟수 "
   ]
  },
  {
   "cell_type": "code",
   "execution_count": null,
   "metadata": {},
   "outputs": [],
   "source": [
    "# 1. 문제 빈도 분석\n",
    "def question_type_analysis(df):\n",
    "    question_types = df['question'].apply(lambda x: x.split('?')[0] + '?')\n",
    "    type_counts = Counter(question_types)\n",
    "    return pd.DataFrame(type_counts.items(), columns=['Question Type', 'Frequency']).sort_values('Frequency', ascending=False)"
   ]
  },
  {
   "cell_type": "code",
   "execution_count": 136,
   "metadata": {},
   "outputs": [],
   "source": [
    "question_types = question_type_analysis(df)"
   ]
  },
  {
   "cell_type": "code",
   "execution_count": 137,
   "metadata": {},
   "outputs": [
    {
     "data": {
      "text/html": [
       "<div>\n",
       "<style scoped>\n",
       "    .dataframe tbody tr th:only-of-type {\n",
       "        vertical-align: middle;\n",
       "    }\n",
       "\n",
       "    .dataframe tbody tr th {\n",
       "        vertical-align: top;\n",
       "    }\n",
       "\n",
       "    .dataframe thead th {\n",
       "        text-align: right;\n",
       "    }\n",
       "</style>\n",
       "<table border=\"1\" class=\"dataframe\">\n",
       "  <thead>\n",
       "    <tr style=\"text-align: right;\">\n",
       "      <th></th>\n",
       "      <th>Question Type</th>\n",
       "      <th>Frequency</th>\n",
       "    </tr>\n",
       "  </thead>\n",
       "  <tbody>\n",
       "    <tr>\n",
       "      <th>101</th>\n",
       "      <td>이 지문에 나타난 정보는 무엇입니까?</td>\n",
       "      <td>15</td>\n",
       "    </tr>\n",
       "    <tr>\n",
       "      <th>296</th>\n",
       "      <td>여기에 해당하지 않는 것은 무엇입니까?</td>\n",
       "      <td>5</td>\n",
       "    </tr>\n",
       "    <tr>\n",
       "      <th>472</th>\n",
       "      <td>이 지문에 나타난 정보는 무엇인가?</td>\n",
       "      <td>5</td>\n",
       "    </tr>\n",
       "    <tr>\n",
       "      <th>6</th>\n",
       "      <td>다음 사건을 시기 순으로 바르게 나열한 것은?</td>\n",
       "      <td>4</td>\n",
       "    </tr>\n",
       "    <tr>\n",
       "      <th>33</th>\n",
       "      <td>밑줄 친 ‘왕’의 재위 기간에 있었던 일로 옳은 것은?</td>\n",
       "      <td>4</td>\n",
       "    </tr>\n",
       "    <tr>\n",
       "      <th>...</th>\n",
       "      <td>...</td>\n",
       "      <td>...</td>\n",
       "    </tr>\n",
       "    <tr>\n",
       "      <th>660</th>\n",
       "      <td>다음 중 위 헌법이 제정된 데에 가장 직접적인 책임이 있는 것은?</td>\n",
       "      <td>1</td>\n",
       "    </tr>\n",
       "    <tr>\n",
       "      <th>659</th>\n",
       "      <td>다음 중 첫 번째 편지의 어조를 가장 잘 반영한 근대 초기 아프리카의 발전 사항은?</td>\n",
       "      <td>1</td>\n",
       "    </tr>\n",
       "    <tr>\n",
       "      <th>658</th>\n",
       "      <td>다음 중 두 번째 문단에서 언급된 자본주의 국가들의 해외 투자로 인해 직접적으로 발...</td>\n",
       "      <td>1</td>\n",
       "    </tr>\n",
       "    <tr>\n",
       "      <th>657</th>\n",
       "      <td>다음 중 다섯 번째 문단에 언급된 거부 운동의 궁극적인 성공에 가장 큰 도움을 준 ...</td>\n",
       "      <td>1</td>\n",
       "    </tr>\n",
       "    <tr>\n",
       "      <th>672</th>\n",
       "      <td>위 시의 시인이 말한 “세계가 속삭이는 것”의 의미는?</td>\n",
       "      <td>1</td>\n",
       "    </tr>\n",
       "  </tbody>\n",
       "</table>\n",
       "<p>1984 rows × 2 columns</p>\n",
       "</div>"
      ],
      "text/plain": [
       "                                         Question Type  Frequency\n",
       "101                               이 지문에 나타난 정보는 무엇입니까?         15\n",
       "296                              여기에 해당하지 않는 것은 무엇입니까?          5\n",
       "472                                이 지문에 나타난 정보는 무엇인가?          5\n",
       "6                            다음 사건을 시기 순으로 바르게 나열한 것은?          4\n",
       "33                      밑줄 친 ‘왕’의 재위 기간에 있었던 일로 옳은 것은?          4\n",
       "..                                                 ...        ...\n",
       "660               다음 중 위 헌법이 제정된 데에 가장 직접적인 책임이 있는 것은?          1\n",
       "659     다음 중 첫 번째 편지의 어조를 가장 잘 반영한 근대 초기 아프리카의 발전 사항은?          1\n",
       "658  다음 중 두 번째 문단에서 언급된 자본주의 국가들의 해외 투자로 인해 직접적으로 발...          1\n",
       "657  다음 중 다섯 번째 문단에 언급된 거부 운동의 궁극적인 성공에 가장 큰 도움을 준 ...          1\n",
       "672                     위 시의 시인이 말한 “세계가 속삭이는 것”의 의미는?          1\n",
       "\n",
       "[1984 rows x 2 columns]"
      ]
     },
     "execution_count": 137,
     "metadata": {},
     "output_type": "execute_result"
    }
   ],
   "source": [
    "question_types"
   ]
  },
  {
   "cell_type": "code",
   "execution_count": 138,
   "metadata": {},
   "outputs": [
    {
     "name": "stdout",
     "output_type": "stream",
     "text": [
      "질문 등장 횟수\n",
      "                      Question Type  Frequency\n",
      "101            이 지문에 나타난 정보는 무엇입니까?         15\n",
      "296           여기에 해당하지 않는 것은 무엇입니까?          5\n",
      "472             이 지문에 나타난 정보는 무엇인가?          5\n",
      "6         다음 사건을 시기 순으로 바르게 나열한 것은?          4\n",
      "33   밑줄 친 ‘왕’의 재위 기간에 있었던 일로 옳은 것은?          4\n"
     ]
    }
   ],
   "source": [
    "print(\"질문 등장 횟수\")\n",
    "print(question_types.head())"
   ]
  },
  {
   "cell_type": "code",
   "execution_count": 170,
   "metadata": {},
   "outputs": [],
   "source": [
    "# 2. 특정 키워드나 패턴 식별\n",
    "def keyword_analysis(df):\n",
    "    keywords = ['옳은', '않은', '틀린', '다른','나열', '빈칸','무엇입니까']\n",
    "    keyword_counts = {keyword: df['question'].str.count(keyword).sum() for keyword in keywords}\n",
    "    return pd.DataFrame(keyword_counts.items(), columns=['Keyword', 'Count']).sort_values('Count', ascending=False)"
   ]
  },
  {
   "cell_type": "code",
   "execution_count": 171,
   "metadata": {},
   "outputs": [],
   "source": [
    "keyword_counts = keyword_analysis(df)"
   ]
  },
  {
   "cell_type": "code",
   "execution_count": 174,
   "metadata": {},
   "outputs": [
    {
     "data": {
      "text/plain": [
       "335"
      ]
     },
     "execution_count": 174,
     "metadata": {},
     "output_type": "execute_result"
    }
   ],
   "source": [
    "total_count = keyword_counts['Count'].sum()\n",
    "total_count"
   ]
  },
  {
   "cell_type": "code",
   "execution_count": 172,
   "metadata": {},
   "outputs": [
    {
     "data": {
      "text/html": [
       "<div>\n",
       "<style scoped>\n",
       "    .dataframe tbody tr th:only-of-type {\n",
       "        vertical-align: middle;\n",
       "    }\n",
       "\n",
       "    .dataframe tbody tr th {\n",
       "        vertical-align: top;\n",
       "    }\n",
       "\n",
       "    .dataframe thead th {\n",
       "        text-align: right;\n",
       "    }\n",
       "</style>\n",
       "<table border=\"1\" class=\"dataframe\">\n",
       "  <thead>\n",
       "    <tr style=\"text-align: right;\">\n",
       "      <th></th>\n",
       "      <th>Keyword</th>\n",
       "      <th>Count</th>\n",
       "    </tr>\n",
       "  </thead>\n",
       "  <tbody>\n",
       "    <tr>\n",
       "      <th>6</th>\n",
       "      <td>무엇입니까</td>\n",
       "      <td>194</td>\n",
       "    </tr>\n",
       "    <tr>\n",
       "      <th>0</th>\n",
       "      <td>옳은</td>\n",
       "      <td>87</td>\n",
       "    </tr>\n",
       "    <tr>\n",
       "      <th>1</th>\n",
       "      <td>않은</td>\n",
       "      <td>31</td>\n",
       "    </tr>\n",
       "    <tr>\n",
       "      <th>4</th>\n",
       "      <td>나열</td>\n",
       "      <td>12</td>\n",
       "    </tr>\n",
       "    <tr>\n",
       "      <th>3</th>\n",
       "      <td>다른</td>\n",
       "      <td>11</td>\n",
       "    </tr>\n",
       "    <tr>\n",
       "      <th>2</th>\n",
       "      <td>틀린</td>\n",
       "      <td>0</td>\n",
       "    </tr>\n",
       "    <tr>\n",
       "      <th>5</th>\n",
       "      <td>빈칸</td>\n",
       "      <td>0</td>\n",
       "    </tr>\n",
       "  </tbody>\n",
       "</table>\n",
       "</div>"
      ],
      "text/plain": [
       "  Keyword  Count\n",
       "6   무엇입니까    194\n",
       "0      옳은     87\n",
       "1      않은     31\n",
       "4      나열     12\n",
       "3      다른     11\n",
       "2      틀린      0\n",
       "5      빈칸      0"
      ]
     },
     "execution_count": 172,
     "metadata": {},
     "output_type": "execute_result"
    }
   ],
   "source": [
    "keyword_counts"
   ]
  },
  {
   "cell_type": "markdown",
   "metadata": {},
   "source": [
    "---"
   ]
  },
  {
   "cell_type": "markdown",
   "metadata": {},
   "source": [
    "# 선택지 분석(choices)"
   ]
  },
  {
   "cell_type": "code",
   "execution_count": 175,
   "metadata": {},
   "outputs": [],
   "source": [
    "df = pd.DataFrame(records)"
   ]
  },
  {
   "cell_type": "code",
   "execution_count": 176,
   "metadata": {},
   "outputs": [
    {
     "data": {
      "text/html": [
       "<div>\n",
       "<style scoped>\n",
       "    .dataframe tbody tr th:only-of-type {\n",
       "        vertical-align: middle;\n",
       "    }\n",
       "\n",
       "    .dataframe tbody tr th {\n",
       "        vertical-align: top;\n",
       "    }\n",
       "\n",
       "    .dataframe thead th {\n",
       "        text-align: right;\n",
       "    }\n",
       "</style>\n",
       "<table border=\"1\" class=\"dataframe\">\n",
       "  <thead>\n",
       "    <tr style=\"text-align: right;\">\n",
       "      <th></th>\n",
       "      <th>id</th>\n",
       "      <th>paragraph</th>\n",
       "      <th>question</th>\n",
       "      <th>choices</th>\n",
       "      <th>answer</th>\n",
       "      <th>question_plus</th>\n",
       "    </tr>\n",
       "  </thead>\n",
       "  <tbody>\n",
       "    <tr>\n",
       "      <th>0</th>\n",
       "      <td>generation-for-nlp-425</td>\n",
       "      <td>상소하여 아뢰기를 , “신이 좌참 찬 송준길이 올린 차자를 보았는데 , 상복(喪服)...</td>\n",
       "      <td>상소한 인물이 속한 붕당에 대한 설명으로 옳은 것만을 모두 고르면?</td>\n",
       "      <td>[ㄱ, ㄴ, ㄱ, ㄷ, ㄴ, ㄹ, ㄷ, ㄹ]</td>\n",
       "      <td>2</td>\n",
       "      <td>None</td>\n",
       "    </tr>\n",
       "    <tr>\n",
       "      <th>1</th>\n",
       "      <td>generation-for-nlp-426</td>\n",
       "      <td>(가)은/는 의병계열과 애국계몽 운동 계열의 비밀결사가 모여 결성된 조직으로, 총사...</td>\n",
       "      <td>(가)에 대한 설명으로 옳지 않은 것은?</td>\n",
       "      <td>[고려 문종 때에 남경(南京)으로 승격되었다., 종루(鐘樓), 이현, 칠패 등에서 ...</td>\n",
       "      <td>1</td>\n",
       "      <td>None</td>\n",
       "    </tr>\n",
       "    <tr>\n",
       "      <th>2</th>\n",
       "      <td>generation-for-nlp-427</td>\n",
       "      <td>나는 삼한(三韓) 산천의 음덕을 입어 대업을 이루었다.(가)는/은 수덕(水德)이 순...</td>\n",
       "      <td>(가) 지역에 대한 설명으로 옳은 것은?</td>\n",
       "      <td>[이곳에 대장도감을 설치하여 재조대장경을 만들었다., 지눌이 이곳에서 수선사 결사운...</td>\n",
       "      <td>4</td>\n",
       "      <td>None</td>\n",
       "    </tr>\n",
       "    <tr>\n",
       "      <th>3</th>\n",
       "      <td>generation-for-nlp-428</td>\n",
       "      <td>이 날 소정방이 부총관 김인문 등과 함께 기 벌포에 도착하여 백제 군사와 마주쳤다....</td>\n",
       "      <td>밑줄 친 ‘그’에 대한 설명으로 옳은 것은?</td>\n",
       "      <td>[살수에서 수의 군대를 물리쳤다 ., 김춘추 의 신라 왕위 계승을 지원하였다 ., ...</td>\n",
       "      <td>2</td>\n",
       "      <td>None</td>\n",
       "    </tr>\n",
       "    <tr>\n",
       "      <th>4</th>\n",
       "      <td>generation-for-nlp-429</td>\n",
       "      <td>선비들 수만 명이 대궐 앞에 모여 만 동묘와 서원을 다시 설립할 것을 청하니, (가...</td>\n",
       "      <td>(가) 인물이 추진한 정책으로 옳지 않은 것은?</td>\n",
       "      <td>[사창제를 실시하였다 ., 대전회통을 편찬하였다 ., 비변사의 기능을 강화하였다 ....</td>\n",
       "      <td>3</td>\n",
       "      <td>None</td>\n",
       "    </tr>\n",
       "    <tr>\n",
       "      <th>...</th>\n",
       "      <td>...</td>\n",
       "      <td>...</td>\n",
       "      <td>...</td>\n",
       "      <td>...</td>\n",
       "      <td>...</td>\n",
       "      <td>...</td>\n",
       "    </tr>\n",
       "    <tr>\n",
       "      <th>2026</th>\n",
       "      <td>generation-for-nlp-2893</td>\n",
       "      <td>“헐값에 팔리는 냉동 오렌지주스만 잔뜩 사가고, 쿠폰을 오려 모았으며, 구멍 난 스...</td>\n",
       "      <td>잭 맥도널드가 남긴 유산의 총액은 얼마인가?</td>\n",
       "      <td>[1억8760만달러, 5000만달러, 2억달러, 1억달러, 3억달러]</td>\n",
       "      <td>1</td>\n",
       "      <td>None</td>\n",
       "    </tr>\n",
       "    <tr>\n",
       "      <th>2027</th>\n",
       "      <td>generation-for-nlp-2894</td>\n",
       "      <td>넷기어코리아(지사장 김진겸, 이하 넷기어)가 뮤럴 캔버스를 가지고 넷기어 SNS에서...</td>\n",
       "      <td>넷기어가 모집하는 '뮤럴 공식 도슨트'의 주요 역할은 무엇인가?</td>\n",
       "      <td>[전시물 설명 및 안내, 고객 서비스 제공, 제품 판매 촉진, 온라인 강좌 콘텐츠 ...</td>\n",
       "      <td>4</td>\n",
       "      <td>None</td>\n",
       "    </tr>\n",
       "    <tr>\n",
       "      <th>2028</th>\n",
       "      <td>generation-for-nlp-2895</td>\n",
       "      <td>서울 성동구 옥수동과 금호동은 맞붙어 있는 동네지만 아파트값은 같은 면적에서 1억원...</td>\n",
       "      <td>옥수동과 금호동의 아파트값 차이가 발생한 주된 이유는 무엇인가?</td>\n",
       "      <td>[옥수동의 재개발이 먼저 이루어졌다, 금호동의 인구가 더 많다, 옥수동이 더 많은 ...</td>\n",
       "      <td>1</td>\n",
       "      <td>None</td>\n",
       "    </tr>\n",
       "    <tr>\n",
       "      <th>2029</th>\n",
       "      <td>generation-for-nlp-2896</td>\n",
       "      <td>방하남 고용노동부 장관(사진)이 취임 후 첫 외부 행사로 5년 만에 일자리를 3.5...</td>\n",
       "      <td>방하남 고용노동부 장관이 방문한 기업의 이름은 무엇인가?</td>\n",
       "      <td>[셀트리온, 삼성전자, LG화학, 한화그룹, 현대자동차]</td>\n",
       "      <td>1</td>\n",
       "      <td>None</td>\n",
       "    </tr>\n",
       "    <tr>\n",
       "      <th>2030</th>\n",
       "      <td>generation-for-nlp-2899</td>\n",
       "      <td>진실한 사랑은 기쁨과 평화를 낳고 고통을 줄여준다. 그것은 자애, 연민, 기쁨, 평...</td>\n",
       "      <td>틱낫한 스님이 강조하는 진실한 사랑의 요소가 아닌 것은 무엇인가?</td>\n",
       "      <td>[자애, 연민, 기쁨, 평온, 소유욕]</td>\n",
       "      <td>5</td>\n",
       "      <td>None</td>\n",
       "    </tr>\n",
       "  </tbody>\n",
       "</table>\n",
       "<p>2031 rows × 6 columns</p>\n",
       "</div>"
      ],
      "text/plain": [
       "                           id  \\\n",
       "0      generation-for-nlp-425   \n",
       "1      generation-for-nlp-426   \n",
       "2      generation-for-nlp-427   \n",
       "3      generation-for-nlp-428   \n",
       "4      generation-for-nlp-429   \n",
       "...                       ...   \n",
       "2026  generation-for-nlp-2893   \n",
       "2027  generation-for-nlp-2894   \n",
       "2028  generation-for-nlp-2895   \n",
       "2029  generation-for-nlp-2896   \n",
       "2030  generation-for-nlp-2899   \n",
       "\n",
       "                                              paragraph  \\\n",
       "0     상소하여 아뢰기를 , “신이 좌참 찬 송준길이 올린 차자를 보았는데 , 상복(喪服)...   \n",
       "1     (가)은/는 의병계열과 애국계몽 운동 계열의 비밀결사가 모여 결성된 조직으로, 총사...   \n",
       "2     나는 삼한(三韓) 산천의 음덕을 입어 대업을 이루었다.(가)는/은 수덕(水德)이 순...   \n",
       "3     이 날 소정방이 부총관 김인문 등과 함께 기 벌포에 도착하여 백제 군사와 마주쳤다....   \n",
       "4     선비들 수만 명이 대궐 앞에 모여 만 동묘와 서원을 다시 설립할 것을 청하니, (가...   \n",
       "...                                                 ...   \n",
       "2026  “헐값에 팔리는 냉동 오렌지주스만 잔뜩 사가고, 쿠폰을 오려 모았으며, 구멍 난 스...   \n",
       "2027  넷기어코리아(지사장 김진겸, 이하 넷기어)가 뮤럴 캔버스를 가지고 넷기어 SNS에서...   \n",
       "2028  서울 성동구 옥수동과 금호동은 맞붙어 있는 동네지만 아파트값은 같은 면적에서 1억원...   \n",
       "2029  방하남 고용노동부 장관(사진)이 취임 후 첫 외부 행사로 5년 만에 일자리를 3.5...   \n",
       "2030  진실한 사랑은 기쁨과 평화를 낳고 고통을 줄여준다. 그것은 자애, 연민, 기쁨, 평...   \n",
       "\n",
       "                                   question  \\\n",
       "0     상소한 인물이 속한 붕당에 대한 설명으로 옳은 것만을 모두 고르면?   \n",
       "1                    (가)에 대한 설명으로 옳지 않은 것은?   \n",
       "2                    (가) 지역에 대한 설명으로 옳은 것은?   \n",
       "3                  밑줄 친 ‘그’에 대한 설명으로 옳은 것은?   \n",
       "4                (가) 인물이 추진한 정책으로 옳지 않은 것은?   \n",
       "...                                     ...   \n",
       "2026               잭 맥도널드가 남긴 유산의 총액은 얼마인가?   \n",
       "2027    넷기어가 모집하는 '뮤럴 공식 도슨트'의 주요 역할은 무엇인가?   \n",
       "2028    옥수동과 금호동의 아파트값 차이가 발생한 주된 이유는 무엇인가?   \n",
       "2029        방하남 고용노동부 장관이 방문한 기업의 이름은 무엇인가?   \n",
       "2030   틱낫한 스님이 강조하는 진실한 사랑의 요소가 아닌 것은 무엇인가?   \n",
       "\n",
       "                                                choices  answer question_plus  \n",
       "0                              [ㄱ, ㄴ, ㄱ, ㄷ, ㄴ, ㄹ, ㄷ, ㄹ]       2          None  \n",
       "1     [고려 문종 때에 남경(南京)으로 승격되었다., 종루(鐘樓), 이현, 칠패 등에서 ...       1          None  \n",
       "2     [이곳에 대장도감을 설치하여 재조대장경을 만들었다., 지눌이 이곳에서 수선사 결사운...       4          None  \n",
       "3     [살수에서 수의 군대를 물리쳤다 ., 김춘추 의 신라 왕위 계승을 지원하였다 ., ...       2          None  \n",
       "4     [사창제를 실시하였다 ., 대전회통을 편찬하였다 ., 비변사의 기능을 강화하였다 ....       3          None  \n",
       "...                                                 ...     ...           ...  \n",
       "2026             [1억8760만달러, 5000만달러, 2억달러, 1억달러, 3억달러]       1          None  \n",
       "2027  [전시물 설명 및 안내, 고객 서비스 제공, 제품 판매 촉진, 온라인 강좌 콘텐츠 ...       4          None  \n",
       "2028  [옥수동의 재개발이 먼저 이루어졌다, 금호동의 인구가 더 많다, 옥수동이 더 많은 ...       1          None  \n",
       "2029                    [셀트리온, 삼성전자, LG화학, 한화그룹, 현대자동차]       1          None  \n",
       "2030                              [자애, 연민, 기쁨, 평온, 소유욕]       5          None  \n",
       "\n",
       "[2031 rows x 6 columns]"
      ]
     },
     "execution_count": 176,
     "metadata": {},
     "output_type": "execute_result"
    }
   ],
   "source": [
    "df"
   ]
  },
  {
   "cell_type": "code",
   "execution_count": 180,
   "metadata": {},
   "outputs": [
    {
     "name": "stdout",
     "output_type": "stream",
     "text": [
      "최대 선택지 개수: 5\n",
      "최소 선택지 개수: 4\n",
      "4지선다 개수: 792\n",
      "5지선다 개수: 1239\n",
      "4지선다 비율: 39.00%\n",
      "5지선다 비율: 61.00%\n"
     ]
    }
   ],
   "source": [
    "import pandas as pd\n",
    "\n",
    "# 데이터프레임에서 'choices' 열 분석\n",
    "choices_length = df['choices'].apply(len)\n",
    "\n",
    "# 최대, 최소 선택지 개수 계산\n",
    "max_choices = choices_length.max()\n",
    "min_choices = choices_length.min()\n",
    "\n",
    "# 4지선다, 5지선다 개수 및 비율 계산\n",
    "total_questions = len(df)\n",
    "four_option_count = (choices_length == 4).sum()\n",
    "five_option_count = (choices_length == 5).sum()\n",
    "\n",
    "four_option_ratio = (four_option_count / total_questions) * 100\n",
    "five_option_ratio = (five_option_count / total_questions) * 100\n",
    "\n",
    "print(f\"최대 선택지 개수: {max_choices}\")\n",
    "print(f\"최소 선택지 개수: {min_choices}\")\n",
    "print(f\"4지선다 개수: {four_option_count}\")\n",
    "print(f\"5지선다 개수: {five_option_count}\")\n",
    "print(f\"4지선다 비율: {four_option_ratio:.2f}%\")\n",
    "print(f\"5지선다 비율: {five_option_ratio:.2f}%\")\n"
   ]
  },
  {
   "cell_type": "code",
   "execution_count": 178,
   "metadata": {},
   "outputs": [
    {
     "name": "stdout",
     "output_type": "stream",
     "text": [
      "최대 선택지 길이: 136\n",
      "최소 선택지 길이: 1\n",
      "평균 선택지 길이: 13.37\n"
     ]
    }
   ],
   "source": [
    "# 각 선택지의 길이 계산\n",
    "choice_lengths = df['choices'].apply(lambda x: [len(str(choice)) for choice in x])\n",
    "\n",
    "# 최대, 최소, 평균 선택지 길이 계산\n",
    "max_length = max(max(lengths) for lengths in choice_lengths)\n",
    "min_length = min(min(lengths) for lengths in choice_lengths)\n",
    "avg_length = sum(sum(lengths) for lengths in choice_lengths) / sum(len(lengths) for lengths in choice_lengths)\n",
    "\n",
    "print(f\"최대 선택지 길이: {max_length}\")\n",
    "print(f\"최소 선택지 길이: {min_length}\")\n",
    "print(f\"평균 선택지 길이: {avg_length:.2f}\")\n"
   ]
  },
  {
   "cell_type": "markdown",
   "metadata": {},
   "source": [
    "# 정답 분석(answer)"
   ]
  },
  {
   "cell_type": "code",
   "execution_count": 184,
   "metadata": {},
   "outputs": [
    {
     "name": "stdout",
     "output_type": "stream",
     "text": [
      "Answer Distribution:\n",
      "answer\n",
      "1    948\n",
      "2    450\n",
      "3    319\n",
      "4    283\n",
      "5     31\n",
      "Name: count, dtype: int64\n",
      "\n",
      "Answer Ratios (%):\n",
      "answer\n",
      "1    46.676514\n",
      "2    22.156573\n",
      "3    15.706548\n",
      "4    13.934023\n",
      "5     1.526342\n",
      "Name: count, dtype: float64\n"
     ]
    },
    {
     "data": {
      "image/png": "[encoded data removed]",
      "text/plain": [
       "<Figure size 1000x600 with 1 Axes>"
      ]
     },
     "metadata": {},
     "output_type": "display_data"
    },
    {
     "name": "stdout",
     "output_type": "stream",
     "text": [
      "Question type column is missing. Skipping this analysis.\n"
     ]
    }
   ],
   "source": [
    "import pandas as pd\n",
    "import matplotlib.pyplot as plt\n",
    "import seaborn as sns\n",
    "\n",
    "# 1. Answer Distribution Analysis\n",
    "def analyze_answer_distribution(df):\n",
    "    answer_counts = df['answer'].value_counts().sort_index()\n",
    "    answer_ratios = (answer_counts / len(df)) * 100\n",
    "    \n",
    "    print(\"Answer Distribution:\")\n",
    "    print(answer_counts)\n",
    "    print(\"\\nAnswer Ratios (%):\")\n",
    "    print(answer_ratios)\n",
    "    \n",
    "    # Visualization\n",
    "    plt.figure(figsize=(10, 6))\n",
    "    answer_counts.plot(kind='bar')\n",
    "    plt.title('Answer Distribution')\n",
    "    plt.xlabel('Answer')\n",
    "    plt.ylabel('Frequency')\n",
    "    plt.show()\n",
    "\n",
    "# 2. Correlation Analysis between Answer and Question Type\n",
    "def analyze_answer_type_relation(df):\n",
    "    if 'type' not in df.columns:\n",
    "        print(\"Question type column is missing. Skipping this analysis.\")\n",
    "        return\n",
    "    \n",
    "    relation = pd.crosstab(df['type'], df['answer'])\n",
    "    print(\"Relationship between Answer and Question Type:\")\n",
    "    print(relation)\n",
    "    \n",
    "    # Visualization\n",
    "    plt.figure(figsize=(12, 8))\n",
    "    sns.heatmap(relation, annot=True, cmap='YlGnBu')\n",
    "    plt.title('Relationship between Answer and Question Type')\n",
    "    plt.show()\n",
    "\n",
    "\n",
    "# Run analyses\n",
    "analyze_answer_distribution(df)\n",
    "analyze_answer_type_relation(df)\n"
   ]
  },
  {
   "cell_type": "code",
   "execution_count": 185,
   "metadata": {},
   "outputs": [
    {
     "name": "stdout",
     "output_type": "stream",
     "text": [
      "Correlation coefficient between Answer and Paragraph length: -0.3048\n"
     ]
    },
    {
     "data": {
      "image/png": "[encoded data removed]",
      "text/plain": [
       "<Figure size 1000x600 with 1 Axes>"
      ]
     },
     "metadata": {},
     "output_type": "display_data"
    }
   ],
   "source": [
    "# 3. Correlation Analysis between Answer and Paragraph Length\n",
    "def analyze_answer_paragraph_correlation(df):\n",
    "    df['paragraph_length'] = df['paragraph'].str.len()\n",
    "    correlation = df['answer'].corr(df['paragraph_length'])\n",
    "    \n",
    "    print(f\"Correlation coefficient between Answer and Paragraph length: {correlation:.4f}\")\n",
    "    \n",
    "    # Visualization\n",
    "    plt.figure(figsize=(10, 6))\n",
    "    plt.scatter(df['paragraph_length'], df['answer'])\n",
    "    plt.title('Relationship between Answer and Paragraph Length')\n",
    "    plt.xlabel('Paragraph Length')\n",
    "    plt.ylabel('Answer')\n",
    "    plt.show()\n",
    "\n",
    "\n",
    "analyze_answer_paragraph_correlation(df)"
   ]
  }
 ],
 "metadata": {
  "colab": {
   "provenance": []
  },
  "kernelspec": {
   "display_name": "base",
   "language": "python",
   "name": "python3"
  },
  "language_info": {
   "codemirror_mode": {
    "name": "ipython",
    "version": 3
   },
   "file_extension": ".py",
   "mimetype": "text/x-python",
   "name": "python",
   "nbconvert_exporter": "python",
   "pygments_lexer": "ipython3",
   "version": "3.10.13"
  },
  "widgets": {
   "application/vnd.jupyter.widget-state+json": {
    "083d924358a24ca2b4266227876cba03": {
     "model_module": "@jupyter-widgets/base",
     "model_module_version": "1.2.0",
     "model_name": "LayoutModel",
     "state": {
      "_model_module": "@jupyter-widgets/base",
      "_model_module_version": "1.2.0",
      "_model_name": "LayoutModel",
      "_view_count": null,
      "_view_module": "@jupyter-widgets/base",
      "_view_module_version": "1.2.0",
      "_view_name": "LayoutView",
      "align_content": null,
      "align_items": null,
      "align_self": null,
      "border": null,
      "bottom": null,
      "display": null,
      "flex": null,
      "flex_flow": null,
      "grid_area": null,
      "grid_auto_columns": null,
      "grid_auto_flow": null,
      "grid_auto_rows": null,
      "grid_column": null,
      "grid_gap": null,
      "grid_row": null,
      "grid_template_areas": null,
      "grid_template_columns": null,
      "grid_template_rows": null,
      "height": null,
      "justify_content": null,
      "justify_items": null,
      "left": null,
      "margin": null,
      "max_height": null,
      "max_width": null,
      "min_height": null,
      "min_width": null,
      "object_fit": null,
      "object_position": null,
      "order": null,
      "overflow": null,
      "overflow_x": null,
      "overflow_y": null,
      "padding": null,
      "right": null,
      "top": null,
      "visibility": null,
      "width": null
     }
    },
    "08a3fd77fbed4d5090a170f01707dd2d": {
     "model_module": "@jupyter-widgets/base",
     "model_module_version": "1.2.0",
     "model_name": "LayoutModel",
     "state": {
      "_model_module": "@jupyter-widgets/base",
      "_model_module_version": "1.2.0",
      "_model_name": "LayoutModel",
      "_view_count": null,
      "_view_module": "@jupyter-widgets/base",
      "_view_module_version": "1.2.0",
      "_view_name": "LayoutView",
      "align_content": null,
      "align_items": null,
      "align_self": null,
      "border": null,
      "bottom": null,
      "display": null,
      "flex": null,
      "flex_flow": null,
      "grid_area": null,
      "grid_auto_columns": null,
      "grid_auto_flow": null,
      "grid_auto_rows": null,
      "grid_column": null,
      "grid_gap": null,
      "grid_row": null,
      "grid_template_areas": null,
      "grid_template_columns": null,
      "grid_template_rows": null,
      "height": null,
      "justify_content": null,
      "justify_items": null,
      "left": null,
      "margin": null,
      "max_height": null,
      "max_width": null,
      "min_height": null,
      "min_width": null,
      "object_fit": null,
      "object_position": null,
      "order": null,
      "overflow": null,
      "overflow_x": null,
      "overflow_y": null,
      "padding": null,
      "right": null,
      "top": null,
      "visibility": null,
      "width": null
     }
    },
    "0ba53d993b8248eebcda4c3accb0178d": {
     "model_module": "@jupyter-widgets/controls",
     "model_module_version": "1.5.0",
     "model_name": "HBoxModel",
     "state": {
      "_dom_classes": [],
      "_model_module": "@jupyter-widgets/controls",
      "_model_module_version": "1.5.0",
      "_model_name": "HBoxModel",
      "_view_count": null,
      "_view_module": "@jupyter-widgets/controls",
      "_view_module_version": "1.5.0",
      "_view_name": "HBoxView",
      "box_style": "",
      "children": [
       "IPY_MODEL_bbbb89d45cbd4b9f80ea194e28279c91",
       "IPY_MODEL_b649fb62e3a94108bbf021f736a51411",
       "IPY_MODEL_f56e81fb31c842e2854fd92c822ce95c"
      ],
      "layout": "IPY_MODEL_364c03accdc94a40a5213c349454a034"
     }
    },
    "0d2a9ff30d984ad7976a66028f2baa3b": {
     "model_module": "@jupyter-widgets/controls",
     "model_module_version": "1.5.0",
     "model_name": "ProgressStyleModel",
     "state": {
      "_model_module": "@jupyter-widgets/controls",
      "_model_module_version": "1.5.0",
      "_model_name": "ProgressStyleModel",
      "_view_count": null,
      "_view_module": "@jupyter-widgets/base",
      "_view_module_version": "1.2.0",
      "_view_name": "StyleView",
      "bar_color": null,
      "description_width": ""
     }
    },
    "0d6aff8f2c1f4e8da06bbf1b9a3f68cd": {
     "model_module": "@jupyter-widgets/controls",
     "model_module_version": "1.5.0",
     "model_name": "DescriptionStyleModel",
     "state": {
      "_model_module": "@jupyter-widgets/controls",
      "_model_module_version": "1.5.0",
      "_model_name": "DescriptionStyleModel",
      "_view_count": null,
      "_view_module": "@jupyter-widgets/base",
      "_view_module_version": "1.2.0",
      "_view_name": "StyleView",
      "description_width": ""
     }
    },
    "1ab4a8e4e6cc4ffd9eca21692d8fa5c5": {
     "model_module": "@jupyter-widgets/controls",
     "model_module_version": "1.5.0",
     "model_name": "HTMLModel",
     "state": {
      "_dom_classes": [],
      "_model_module": "@jupyter-widgets/controls",
      "_model_module_version": "1.5.0",
      "_model_name": "HTMLModel",
      "_view_count": null,
      "_view_module": "@jupyter-widgets/controls",
      "_view_module_version": "1.5.0",
      "_view_name": "HTMLView",
      "description": "",
      "description_tooltip": null,
      "layout": "IPY_MODEL_4488bfb0ea004300b20c2fa4d2ec9b9d",
      "placeholder": "​",
      "style": "IPY_MODEL_e6ee6ae4d57b474eac92d44df828a38e",
      "value": "Tokenizing (num_proc=4):   0%"
     }
    },
    "1c90b238640847cfb741aea3a065ae4b": {
     "model_module": "@jupyter-widgets/controls",
     "model_module_version": "1.5.0",
     "model_name": "FloatProgressModel",
     "state": {
      "_dom_classes": [],
      "_model_module": "@jupyter-widgets/controls",
      "_model_module_version": "1.5.0",
      "_model_name": "FloatProgressModel",
      "_view_count": null,
      "_view_module": "@jupyter-widgets/controls",
      "_view_module_version": "1.5.0",
      "_view_name": "ProgressView",
      "bar_style": "success",
      "description": "",
      "description_tooltip": null,
      "layout": "IPY_MODEL_a252716af6344d9eaf73933007e02f4f",
      "max": 4241003,
      "min": 0,
      "orientation": "horizontal",
      "style": "IPY_MODEL_c0739ebfb9544922be581b441aaa4db8",
      "value": 4241003
     }
    },
    "1fa9d7b8d43947f4883579547eadc94c": {
     "model_module": "@jupyter-widgets/controls",
     "model_module_version": "1.5.0",
     "model_name": "ProgressStyleModel",
     "state": {
      "_model_module": "@jupyter-widgets/controls",
      "_model_module_version": "1.5.0",
      "_model_name": "ProgressStyleModel",
      "_view_count": null,
      "_view_module": "@jupyter-widgets/base",
      "_view_module_version": "1.2.0",
      "_view_name": "StyleView",
      "bar_color": null,
      "description_width": ""
     }
    },
    "1ff6fdc76a654ba18ec093e87758653a": {
     "model_module": "@jupyter-widgets/controls",
     "model_module_version": "1.5.0",
     "model_name": "HBoxModel",
     "state": {
      "_dom_classes": [],
      "_model_module": "@jupyter-widgets/controls",
      "_model_module_version": "1.5.0",
      "_model_name": "HBoxModel",
      "_view_count": null,
      "_view_module": "@jupyter-widgets/controls",
      "_view_module_version": "1.5.0",
      "_view_name": "HBoxView",
      "box_style": "",
      "children": [
       "IPY_MODEL_dd17f975571342c1b404df0176d67474",
       "IPY_MODEL_1c90b238640847cfb741aea3a065ae4b",
       "IPY_MODEL_20b1542402264e278d471f6b53a8db5a"
      ],
      "layout": "IPY_MODEL_4122c470445c47a6b833fc0cc437bf87"
     }
    },
    "20b1542402264e278d471f6b53a8db5a": {
     "model_module": "@jupyter-widgets/controls",
     "model_module_version": "1.5.0",
     "model_name": "HTMLModel",
     "state": {
      "_dom_classes": [],
      "_model_module": "@jupyter-widgets/controls",
      "_model_module_version": "1.5.0",
      "_model_name": "HTMLModel",
      "_view_count": null,
      "_view_module": "@jupyter-widgets/controls",
      "_view_module_version": "1.5.0",
      "_view_name": "HTMLView",
      "description": "",
      "description_tooltip": null,
      "layout": "IPY_MODEL_25a964ad7063407791fd011bcbcb51a8",
      "placeholder": "​",
      "style": "IPY_MODEL_99e9b4ed5b8647b1bea8cf2fa6240000",
      "value": " 4.24M/4.24M [00:00&lt;00:00, 10.3MB/s]"
     }
    },
    "25a964ad7063407791fd011bcbcb51a8": {
     "model_module": "@jupyter-widgets/base",
     "model_module_version": "1.2.0",
     "model_name": "LayoutModel",
     "state": {
      "_model_module": "@jupyter-widgets/base",
      "_model_module_version": "1.2.0",
      "_model_name": "LayoutModel",
      "_view_count": null,
      "_view_module": "@jupyter-widgets/base",
      "_view_module_version": "1.2.0",
      "_view_name": "LayoutView",
      "align_content": null,
      "align_items": null,
      "align_self": null,
      "border": null,
      "bottom": null,
      "display": null,
      "flex": null,
      "flex_flow": null,
      "grid_area": null,
      "grid_auto_columns": null,
      "grid_auto_flow": null,
      "grid_auto_rows": null,
      "grid_column": null,
      "grid_gap": null,
      "grid_row": null,
      "grid_template_areas": null,
      "grid_template_columns": null,
      "grid_template_rows": null,
      "height": null,
      "justify_content": null,
      "justify_items": null,
      "left": null,
      "margin": null,
      "max_height": null,
      "max_width": null,
      "min_height": null,
      "min_width": null,
      "object_fit": null,
      "object_position": null,
      "order": null,
      "overflow": null,
      "overflow_x": null,
      "overflow_y": null,
      "padding": null,
      "right": null,
      "top": null,
      "visibility": null,
      "width": null
     }
    },
    "2fb4c4103083476fa4a993392255e45b": {
     "model_module": "@jupyter-widgets/controls",
     "model_module_version": "1.5.0",
     "model_name": "HTMLModel",
     "state": {
      "_dom_classes": [],
      "_model_module": "@jupyter-widgets/controls",
      "_model_module_version": "1.5.0",
      "_model_name": "HTMLModel",
      "_view_count": null,
      "_view_module": "@jupyter-widgets/controls",
      "_view_module_version": "1.5.0",
      "_view_name": "HTMLView",
      "description": "",
      "description_tooltip": null,
      "layout": "IPY_MODEL_e178a04c2f334afc887ad542f8d3ffee",
      "placeholder": "​",
      "style": "IPY_MODEL_cca7029c40874015b01c2fe1a9a6e599",
      "value": " 17.5M/17.5M [00:01&lt;00:00, 10.4MB/s]"
     }
    },
    "343c670d452147828f8baa82cc4a013d": {
     "model_module": "@jupyter-widgets/base",
     "model_module_version": "1.2.0",
     "model_name": "LayoutModel",
     "state": {
      "_model_module": "@jupyter-widgets/base",
      "_model_module_version": "1.2.0",
      "_model_name": "LayoutModel",
      "_view_count": null,
      "_view_module": "@jupyter-widgets/base",
      "_view_module_version": "1.2.0",
      "_view_name": "LayoutView",
      "align_content": null,
      "align_items": null,
      "align_self": null,
      "border": null,
      "bottom": null,
      "display": null,
      "flex": null,
      "flex_flow": null,
      "grid_area": null,
      "grid_auto_columns": null,
      "grid_auto_flow": null,
      "grid_auto_rows": null,
      "grid_column": null,
      "grid_gap": null,
      "grid_row": null,
      "grid_template_areas": null,
      "grid_template_columns": null,
      "grid_template_rows": null,
      "height": null,
      "justify_content": null,
      "justify_items": null,
      "left": null,
      "margin": null,
      "max_height": null,
      "max_width": null,
      "min_height": null,
      "min_width": null,
      "object_fit": null,
      "object_position": null,
      "order": null,
      "overflow": null,
      "overflow_x": null,
      "overflow_y": null,
      "padding": null,
      "right": null,
      "top": null,
      "visibility": null,
      "width": null
     }
    },
    "350a954de0834529a63f7e5e215e35d7": {
     "model_module": "@jupyter-widgets/base",
     "model_module_version": "1.2.0",
     "model_name": "LayoutModel",
     "state": {
      "_model_module": "@jupyter-widgets/base",
      "_model_module_version": "1.2.0",
      "_model_name": "LayoutModel",
      "_view_count": null,
      "_view_module": "@jupyter-widgets/base",
      "_view_module_version": "1.2.0",
      "_view_name": "LayoutView",
      "align_content": null,
      "align_items": null,
      "align_self": null,
      "border": null,
      "bottom": null,
      "display": null,
      "flex": null,
      "flex_flow": null,
      "grid_area": null,
      "grid_auto_columns": null,
      "grid_auto_flow": null,
      "grid_auto_rows": null,
      "grid_column": null,
      "grid_gap": null,
      "grid_row": null,
      "grid_template_areas": null,
      "grid_template_columns": null,
      "grid_template_rows": null,
      "height": null,
      "justify_content": null,
      "justify_items": null,
      "left": null,
      "margin": null,
      "max_height": null,
      "max_width": null,
      "min_height": null,
      "min_width": null,
      "object_fit": null,
      "object_position": null,
      "order": null,
      "overflow": null,
      "overflow_x": null,
      "overflow_y": null,
      "padding": null,
      "right": null,
      "top": null,
      "visibility": null,
      "width": null
     }
    },
    "364c03accdc94a40a5213c349454a034": {
     "model_module": "@jupyter-widgets/base",
     "model_module_version": "1.2.0",
     "model_name": "LayoutModel",
     "state": {
      "_model_module": "@jupyter-widgets/base",
      "_model_module_version": "1.2.0",
      "_model_name": "LayoutModel",
      "_view_count": null,
      "_view_module": "@jupyter-widgets/base",
      "_view_module_version": "1.2.0",
      "_view_name": "LayoutView",
      "align_content": null,
      "align_items": null,
      "align_self": null,
      "border": null,
      "bottom": null,
      "display": null,
      "flex": null,
      "flex_flow": null,
      "grid_area": null,
      "grid_auto_columns": null,
      "grid_auto_flow": null,
      "grid_auto_rows": null,
      "grid_column": null,
      "grid_gap": null,
      "grid_row": null,
      "grid_template_areas": null,
      "grid_template_columns": null,
      "grid_template_rows": null,
      "height": null,
      "justify_content": null,
      "justify_items": null,
      "left": null,
      "margin": null,
      "max_height": null,
      "max_width": null,
      "min_height": null,
      "min_width": null,
      "object_fit": null,
      "object_position": null,
      "order": null,
      "overflow": null,
      "overflow_x": null,
      "overflow_y": null,
      "padding": null,
      "right": null,
      "top": null,
      "visibility": null,
      "width": null
     }
    },
    "3ca6299aa3a34fad8aff01c5edcf4d2e": {
     "model_module": "@jupyter-widgets/controls",
     "model_module_version": "1.5.0",
     "model_name": "DescriptionStyleModel",
     "state": {
      "_model_module": "@jupyter-widgets/controls",
      "_model_module_version": "1.5.0",
      "_model_name": "DescriptionStyleModel",
      "_view_count": null,
      "_view_module": "@jupyter-widgets/base",
      "_view_module_version": "1.2.0",
      "_view_name": "StyleView",
      "description_width": ""
     }
    },
    "3f933e18e87e4e758bfa94f95c6f4b67": {
     "model_module": "@jupyter-widgets/controls",
     "model_module_version": "1.5.0",
     "model_name": "FloatProgressModel",
     "state": {
      "_dom_classes": [],
      "_model_module": "@jupyter-widgets/controls",
      "_model_module_version": "1.5.0",
      "_model_name": "FloatProgressModel",
      "_view_count": null,
      "_view_module": "@jupyter-widgets/controls",
      "_view_module_version": "1.5.0",
      "_view_name": "ProgressView",
      "bar_style": "success",
      "description": "",
      "description_tooltip": null,
      "layout": "IPY_MODEL_c291408f8d664acb99d52ecca5fdaf22",
      "max": 555,
      "min": 0,
      "orientation": "horizontal",
      "style": "IPY_MODEL_bc5ca09a79ae44eb9b2a8a520706cfa4",
      "value": 555
     }
    },
    "4122c470445c47a6b833fc0cc437bf87": {
     "model_module": "@jupyter-widgets/base",
     "model_module_version": "1.2.0",
     "model_name": "LayoutModel",
     "state": {
      "_model_module": "@jupyter-widgets/base",
      "_model_module_version": "1.2.0",
      "_model_name": "LayoutModel",
      "_view_count": null,
      "_view_module": "@jupyter-widgets/base",
      "_view_module_version": "1.2.0",
      "_view_name": "LayoutView",
      "align_content": null,
      "align_items": null,
      "align_self": null,
      "border": null,
      "bottom": null,
      "display": null,
      "flex": null,
      "flex_flow": null,
      "grid_area": null,
      "grid_auto_columns": null,
      "grid_auto_flow": null,
      "grid_auto_rows": null,
      "grid_column": null,
      "grid_gap": null,
      "grid_row": null,
      "grid_template_areas": null,
      "grid_template_columns": null,
      "grid_template_rows": null,
      "height": null,
      "justify_content": null,
      "justify_items": null,
      "left": null,
      "margin": null,
      "max_height": null,
      "max_width": null,
      "min_height": null,
      "min_width": null,
      "object_fit": null,
      "object_position": null,
      "order": null,
      "overflow": null,
      "overflow_x": null,
      "overflow_y": null,
      "padding": null,
      "right": null,
      "top": null,
      "visibility": null,
      "width": null
     }
    },
    "4488bfb0ea004300b20c2fa4d2ec9b9d": {
     "model_module": "@jupyter-widgets/base",
     "model_module_version": "1.2.0",
     "model_name": "LayoutModel",
     "state": {
      "_model_module": "@jupyter-widgets/base",
      "_model_module_version": "1.2.0",
      "_model_name": "LayoutModel",
      "_view_count": null,
      "_view_module": "@jupyter-widgets/base",
      "_view_module_version": "1.2.0",
      "_view_name": "LayoutView",
      "align_content": null,
      "align_items": null,
      "align_self": null,
      "border": null,
      "bottom": null,
      "display": null,
      "flex": null,
      "flex_flow": null,
      "grid_area": null,
      "grid_auto_columns": null,
      "grid_auto_flow": null,
      "grid_auto_rows": null,
      "grid_column": null,
      "grid_gap": null,
      "grid_row": null,
      "grid_template_areas": null,
      "grid_template_columns": null,
      "grid_template_rows": null,
      "height": null,
      "justify_content": null,
      "justify_items": null,
      "left": null,
      "margin": null,
      "max_height": null,
      "max_width": null,
      "min_height": null,
      "min_width": null,
      "object_fit": null,
      "object_position": null,
      "order": null,
      "overflow": null,
      "overflow_x": null,
      "overflow_y": null,
      "padding": null,
      "right": null,
      "top": null,
      "visibility": null,
      "width": null
     }
    },
    "48fa3c1bd847463ebc1c0f8a9fbf9dc6": {
     "model_module": "@jupyter-widgets/controls",
     "model_module_version": "1.5.0",
     "model_name": "DescriptionStyleModel",
     "state": {
      "_model_module": "@jupyter-widgets/controls",
      "_model_module_version": "1.5.0",
      "_model_name": "DescriptionStyleModel",
      "_view_count": null,
      "_view_module": "@jupyter-widgets/base",
      "_view_module_version": "1.2.0",
      "_view_name": "StyleView",
      "description_width": ""
     }
    },
    "5193ac096fb8465caeea263ce24db460": {
     "model_module": "@jupyter-widgets/controls",
     "model_module_version": "1.5.0",
     "model_name": "HBoxModel",
     "state": {
      "_dom_classes": [],
      "_model_module": "@jupyter-widgets/controls",
      "_model_module_version": "1.5.0",
      "_model_name": "HBoxModel",
      "_view_count": null,
      "_view_module": "@jupyter-widgets/controls",
      "_view_module_version": "1.5.0",
      "_view_name": "HBoxView",
      "box_style": "",
      "children": [
       "IPY_MODEL_e973377bc39542d6af22ee48125cb18f",
       "IPY_MODEL_3f933e18e87e4e758bfa94f95c6f4b67",
       "IPY_MODEL_7305d068ca70498694eb51265c500475"
      ],
      "layout": "IPY_MODEL_083d924358a24ca2b4266227876cba03"
     }
    },
    "5770aa23bb0243fb9069eee6b349ab04": {
     "model_module": "@jupyter-widgets/controls",
     "model_module_version": "1.5.0",
     "model_name": "HBoxModel",
     "state": {
      "_dom_classes": [],
      "_model_module": "@jupyter-widgets/controls",
      "_model_module_version": "1.5.0",
      "_model_name": "HBoxModel",
      "_view_count": null,
      "_view_module": "@jupyter-widgets/controls",
      "_view_module_version": "1.5.0",
      "_view_name": "HBoxView",
      "box_style": "",
      "children": [
       "IPY_MODEL_1ab4a8e4e6cc4ffd9eca21692d8fa5c5",
       "IPY_MODEL_b9105dac30b347e4ba4ebc227a052104",
       "IPY_MODEL_954e8f12dd4b4871bcb6f2d69570622d"
      ],
      "layout": "IPY_MODEL_a11e40534303443da016f18d8da9e714"
     }
    },
    "5818f970de6b4022b9cdacb16bfde58c": {
     "model_module": "@jupyter-widgets/base",
     "model_module_version": "1.2.0",
     "model_name": "LayoutModel",
     "state": {
      "_model_module": "@jupyter-widgets/base",
      "_model_module_version": "1.2.0",
      "_model_name": "LayoutModel",
      "_view_count": null,
      "_view_module": "@jupyter-widgets/base",
      "_view_module_version": "1.2.0",
      "_view_name": "LayoutView",
      "align_content": null,
      "align_items": null,
      "align_self": null,
      "border": null,
      "bottom": null,
      "display": null,
      "flex": null,
      "flex_flow": null,
      "grid_area": null,
      "grid_auto_columns": null,
      "grid_auto_flow": null,
      "grid_auto_rows": null,
      "grid_column": null,
      "grid_gap": null,
      "grid_row": null,
      "grid_template_areas": null,
      "grid_template_columns": null,
      "grid_template_rows": null,
      "height": null,
      "justify_content": null,
      "justify_items": null,
      "left": null,
      "margin": null,
      "max_height": null,
      "max_width": null,
      "min_height": null,
      "min_width": null,
      "object_fit": null,
      "object_position": null,
      "order": null,
      "overflow": null,
      "overflow_x": null,
      "overflow_y": null,
      "padding": null,
      "right": null,
      "top": null,
      "visibility": null,
      "width": null
     }
    },
    "5c0146fb497c408c82015bc24594ce67": {
     "model_module": "@jupyter-widgets/base",
     "model_module_version": "1.2.0",
     "model_name": "LayoutModel",
     "state": {
      "_model_module": "@jupyter-widgets/base",
      "_model_module_version": "1.2.0",
      "_model_name": "LayoutModel",
      "_view_count": null,
      "_view_module": "@jupyter-widgets/base",
      "_view_module_version": "1.2.0",
      "_view_name": "LayoutView",
      "align_content": null,
      "align_items": null,
      "align_self": null,
      "border": null,
      "bottom": null,
      "display": null,
      "flex": null,
      "flex_flow": null,
      "grid_area": null,
      "grid_auto_columns": null,
      "grid_auto_flow": null,
      "grid_auto_rows": null,
      "grid_column": null,
      "grid_gap": null,
      "grid_row": null,
      "grid_template_areas": null,
      "grid_template_columns": null,
      "grid_template_rows": null,
      "height": null,
      "justify_content": null,
      "justify_items": null,
      "left": null,
      "margin": null,
      "max_height": null,
      "max_width": null,
      "min_height": null,
      "min_width": null,
      "object_fit": null,
      "object_position": null,
      "order": null,
      "overflow": null,
      "overflow_x": null,
      "overflow_y": null,
      "padding": null,
      "right": null,
      "top": null,
      "visibility": null,
      "width": null
     }
    },
    "5cd2ca43898e40aba895c11af7c700f4": {
     "model_module": "@jupyter-widgets/controls",
     "model_module_version": "1.5.0",
     "model_name": "FloatProgressModel",
     "state": {
      "_dom_classes": [],
      "_model_module": "@jupyter-widgets/controls",
      "_model_module_version": "1.5.0",
      "_model_name": "FloatProgressModel",
      "_view_count": null,
      "_view_module": "@jupyter-widgets/controls",
      "_view_module_version": "1.5.0",
      "_view_name": "ProgressView",
      "bar_style": "success",
      "description": "",
      "description_tooltip": null,
      "layout": "IPY_MODEL_974952e7d66c49b581205ca73533d0bb",
      "max": 17477553,
      "min": 0,
      "orientation": "horizontal",
      "style": "IPY_MODEL_1fa9d7b8d43947f4883579547eadc94c",
      "value": 17477553
     }
    },
    "6159f6ccbe90414bb1b3558e6b8c5b64": {
     "model_module": "@jupyter-widgets/controls",
     "model_module_version": "1.5.0",
     "model_name": "HTMLModel",
     "state": {
      "_dom_classes": [],
      "_model_module": "@jupyter-widgets/controls",
      "_model_module_version": "1.5.0",
      "_model_name": "HTMLModel",
      "_view_count": null,
      "_view_module": "@jupyter-widgets/controls",
      "_view_module_version": "1.5.0",
      "_view_name": "HTMLView",
      "description": "",
      "description_tooltip": null,
      "layout": "IPY_MODEL_6faf4e5651914d468646a7a8ce589b97",
      "placeholder": "​",
      "style": "IPY_MODEL_0d6aff8f2c1f4e8da06bbf1b9a3f68cd",
      "value": "tokenizer.json: 100%"
     }
    },
    "6faf4e5651914d468646a7a8ce589b97": {
     "model_module": "@jupyter-widgets/base",
     "model_module_version": "1.2.0",
     "model_name": "LayoutModel",
     "state": {
      "_model_module": "@jupyter-widgets/base",
      "_model_module_version": "1.2.0",
      "_model_name": "LayoutModel",
      "_view_count": null,
      "_view_module": "@jupyter-widgets/base",
      "_view_module_version": "1.2.0",
      "_view_name": "LayoutView",
      "align_content": null,
      "align_items": null,
      "align_self": null,
      "border": null,
      "bottom": null,
      "display": null,
      "flex": null,
      "flex_flow": null,
      "grid_area": null,
      "grid_auto_columns": null,
      "grid_auto_flow": null,
      "grid_auto_rows": null,
      "grid_column": null,
      "grid_gap": null,
      "grid_row": null,
      "grid_template_areas": null,
      "grid_template_columns": null,
      "grid_template_rows": null,
      "height": null,
      "justify_content": null,
      "justify_items": null,
      "left": null,
      "margin": null,
      "max_height": null,
      "max_width": null,
      "min_height": null,
      "min_width": null,
      "object_fit": null,
      "object_position": null,
      "order": null,
      "overflow": null,
      "overflow_x": null,
      "overflow_y": null,
      "padding": null,
      "right": null,
      "top": null,
      "visibility": null,
      "width": null
     }
    },
    "729a07f3e22d418ea0137a077992d4f5": {
     "model_module": "@jupyter-widgets/controls",
     "model_module_version": "1.5.0",
     "model_name": "DescriptionStyleModel",
     "state": {
      "_model_module": "@jupyter-widgets/controls",
      "_model_module_version": "1.5.0",
      "_model_name": "DescriptionStyleModel",
      "_view_count": null,
      "_view_module": "@jupyter-widgets/base",
      "_view_module_version": "1.2.0",
      "_view_name": "StyleView",
      "description_width": ""
     }
    },
    "7305d068ca70498694eb51265c500475": {
     "model_module": "@jupyter-widgets/controls",
     "model_module_version": "1.5.0",
     "model_name": "HTMLModel",
     "state": {
      "_dom_classes": [],
      "_model_module": "@jupyter-widgets/controls",
      "_model_module_version": "1.5.0",
      "_model_name": "HTMLModel",
      "_view_count": null,
      "_view_module": "@jupyter-widgets/controls",
      "_view_module_version": "1.5.0",
      "_view_name": "HTMLView",
      "description": "",
      "description_tooltip": null,
      "layout": "IPY_MODEL_5818f970de6b4022b9cdacb16bfde58c",
      "placeholder": "​",
      "style": "IPY_MODEL_3ca6299aa3a34fad8aff01c5edcf4d2e",
      "value": " 555/555 [00:00&lt;00:00, 9.16kB/s]"
     }
    },
    "75e6ccf6d0dc476d84775dd8e61d100b": {
     "model_module": "@jupyter-widgets/controls",
     "model_module_version": "1.5.0",
     "model_name": "DescriptionStyleModel",
     "state": {
      "_model_module": "@jupyter-widgets/controls",
      "_model_module_version": "1.5.0",
      "_model_name": "DescriptionStyleModel",
      "_view_count": null,
      "_view_module": "@jupyter-widgets/base",
      "_view_module_version": "1.2.0",
      "_view_name": "StyleView",
      "description_width": ""
     }
    },
    "8213d9bca40242d4a6ca4159fca4857f": {
     "model_module": "@jupyter-widgets/controls",
     "model_module_version": "1.5.0",
     "model_name": "ProgressStyleModel",
     "state": {
      "_model_module": "@jupyter-widgets/controls",
      "_model_module_version": "1.5.0",
      "_model_name": "ProgressStyleModel",
      "_view_count": null,
      "_view_module": "@jupyter-widgets/base",
      "_view_module_version": "1.2.0",
      "_view_name": "StyleView",
      "bar_color": null,
      "description_width": ""
     }
    },
    "8426cb6c5066451084bfa307049d887e": {
     "model_module": "@jupyter-widgets/controls",
     "model_module_version": "1.5.0",
     "model_name": "HBoxModel",
     "state": {
      "_dom_classes": [],
      "_model_module": "@jupyter-widgets/controls",
      "_model_module_version": "1.5.0",
      "_model_name": "HBoxModel",
      "_view_count": null,
      "_view_module": "@jupyter-widgets/controls",
      "_view_module_version": "1.5.0",
      "_view_name": "HBoxView",
      "box_style": "",
      "children": [
       "IPY_MODEL_6159f6ccbe90414bb1b3558e6b8c5b64",
       "IPY_MODEL_5cd2ca43898e40aba895c11af7c700f4",
       "IPY_MODEL_2fb4c4103083476fa4a993392255e45b"
      ],
      "layout": "IPY_MODEL_08a3fd77fbed4d5090a170f01707dd2d"
     }
    },
    "8bf29ecc960449f9bde12dc2049899aa": {
     "model_module": "@jupyter-widgets/controls",
     "model_module_version": "1.5.0",
     "model_name": "DescriptionStyleModel",
     "state": {
      "_model_module": "@jupyter-widgets/controls",
      "_model_module_version": "1.5.0",
      "_model_name": "DescriptionStyleModel",
      "_view_count": null,
      "_view_module": "@jupyter-widgets/base",
      "_view_module_version": "1.2.0",
      "_view_name": "StyleView",
      "description_width": ""
     }
    },
    "954e8f12dd4b4871bcb6f2d69570622d": {
     "model_module": "@jupyter-widgets/controls",
     "model_module_version": "1.5.0",
     "model_name": "HTMLModel",
     "state": {
      "_dom_classes": [],
      "_model_module": "@jupyter-widgets/controls",
      "_model_module_version": "1.5.0",
      "_model_name": "HTMLModel",
      "_view_count": null,
      "_view_module": "@jupyter-widgets/controls",
      "_view_module_version": "1.5.0",
      "_view_name": "HTMLView",
      "description": "",
      "description_tooltip": null,
      "layout": "IPY_MODEL_343c670d452147828f8baa82cc4a013d",
      "placeholder": "​",
      "style": "IPY_MODEL_75e6ccf6d0dc476d84775dd8e61d100b",
      "value": " 0/2031 [01:02&lt;?, ? examples/s]"
     }
    },
    "974952e7d66c49b581205ca73533d0bb": {
     "model_module": "@jupyter-widgets/base",
     "model_module_version": "1.2.0",
     "model_name": "LayoutModel",
     "state": {
      "_model_module": "@jupyter-widgets/base",
      "_model_module_version": "1.2.0",
      "_model_name": "LayoutModel",
      "_view_count": null,
      "_view_module": "@jupyter-widgets/base",
      "_view_module_version": "1.2.0",
      "_view_name": "LayoutView",
      "align_content": null,
      "align_items": null,
      "align_self": null,
      "border": null,
      "bottom": null,
      "display": null,
      "flex": null,
      "flex_flow": null,
      "grid_area": null,
      "grid_auto_columns": null,
      "grid_auto_flow": null,
      "grid_auto_rows": null,
      "grid_column": null,
      "grid_gap": null,
      "grid_row": null,
      "grid_template_areas": null,
      "grid_template_columns": null,
      "grid_template_rows": null,
      "height": null,
      "justify_content": null,
      "justify_items": null,
      "left": null,
      "margin": null,
      "max_height": null,
      "max_width": null,
      "min_height": null,
      "min_width": null,
      "object_fit": null,
      "object_position": null,
      "order": null,
      "overflow": null,
      "overflow_x": null,
      "overflow_y": null,
      "padding": null,
      "right": null,
      "top": null,
      "visibility": null,
      "width": null
     }
    },
    "99e9b4ed5b8647b1bea8cf2fa6240000": {
     "model_module": "@jupyter-widgets/controls",
     "model_module_version": "1.5.0",
     "model_name": "DescriptionStyleModel",
     "state": {
      "_model_module": "@jupyter-widgets/controls",
      "_model_module_version": "1.5.0",
      "_model_name": "DescriptionStyleModel",
      "_view_count": null,
      "_view_module": "@jupyter-widgets/base",
      "_view_module_version": "1.2.0",
      "_view_name": "StyleView",
      "description_width": ""
     }
    },
    "9b1933af936b44ba9410d3729e386261": {
     "model_module": "@jupyter-widgets/base",
     "model_module_version": "1.2.0",
     "model_name": "LayoutModel",
     "state": {
      "_model_module": "@jupyter-widgets/base",
      "_model_module_version": "1.2.0",
      "_model_name": "LayoutModel",
      "_view_count": null,
      "_view_module": "@jupyter-widgets/base",
      "_view_module_version": "1.2.0",
      "_view_name": "LayoutView",
      "align_content": null,
      "align_items": null,
      "align_self": null,
      "border": null,
      "bottom": null,
      "display": null,
      "flex": null,
      "flex_flow": null,
      "grid_area": null,
      "grid_auto_columns": null,
      "grid_auto_flow": null,
      "grid_auto_rows": null,
      "grid_column": null,
      "grid_gap": null,
      "grid_row": null,
      "grid_template_areas": null,
      "grid_template_columns": null,
      "grid_template_rows": null,
      "height": null,
      "justify_content": null,
      "justify_items": null,
      "left": null,
      "margin": null,
      "max_height": null,
      "max_width": null,
      "min_height": null,
      "min_width": null,
      "object_fit": null,
      "object_position": null,
      "order": null,
      "overflow": null,
      "overflow_x": null,
      "overflow_y": null,
      "padding": null,
      "right": null,
      "top": null,
      "visibility": null,
      "width": null
     }
    },
    "a11e40534303443da016f18d8da9e714": {
     "model_module": "@jupyter-widgets/base",
     "model_module_version": "1.2.0",
     "model_name": "LayoutModel",
     "state": {
      "_model_module": "@jupyter-widgets/base",
      "_model_module_version": "1.2.0",
      "_model_name": "LayoutModel",
      "_view_count": null,
      "_view_module": "@jupyter-widgets/base",
      "_view_module_version": "1.2.0",
      "_view_name": "LayoutView",
      "align_content": null,
      "align_items": null,
      "align_self": null,
      "border": null,
      "bottom": null,
      "display": null,
      "flex": null,
      "flex_flow": null,
      "grid_area": null,
      "grid_auto_columns": null,
      "grid_auto_flow": null,
      "grid_auto_rows": null,
      "grid_column": null,
      "grid_gap": null,
      "grid_row": null,
      "grid_template_areas": null,
      "grid_template_columns": null,
      "grid_template_rows": null,
      "height": null,
      "justify_content": null,
      "justify_items": null,
      "left": null,
      "margin": null,
      "max_height": null,
      "max_width": null,
      "min_height": null,
      "min_width": null,
      "object_fit": null,
      "object_position": null,
      "order": null,
      "overflow": null,
      "overflow_x": null,
      "overflow_y": null,
      "padding": null,
      "right": null,
      "top": null,
      "visibility": null,
      "width": null
     }
    },
    "a252716af6344d9eaf73933007e02f4f": {
     "model_module": "@jupyter-widgets/base",
     "model_module_version": "1.2.0",
     "model_name": "LayoutModel",
     "state": {
      "_model_module": "@jupyter-widgets/base",
      "_model_module_version": "1.2.0",
      "_model_name": "LayoutModel",
      "_view_count": null,
      "_view_module": "@jupyter-widgets/base",
      "_view_module_version": "1.2.0",
      "_view_name": "LayoutView",
      "align_content": null,
      "align_items": null,
      "align_self": null,
      "border": null,
      "bottom": null,
      "display": null,
      "flex": null,
      "flex_flow": null,
      "grid_area": null,
      "grid_auto_columns": null,
      "grid_auto_flow": null,
      "grid_auto_rows": null,
      "grid_column": null,
      "grid_gap": null,
      "grid_row": null,
      "grid_template_areas": null,
      "grid_template_columns": null,
      "grid_template_rows": null,
      "height": null,
      "justify_content": null,
      "justify_items": null,
      "left": null,
      "margin": null,
      "max_height": null,
      "max_width": null,
      "min_height": null,
      "min_width": null,
      "object_fit": null,
      "object_position": null,
      "order": null,
      "overflow": null,
      "overflow_x": null,
      "overflow_y": null,
      "padding": null,
      "right": null,
      "top": null,
      "visibility": null,
      "width": null
     }
    },
    "b20beb2f3d2a4fc9953eb94ff1187bf2": {
     "model_module": "@jupyter-widgets/base",
     "model_module_version": "1.2.0",
     "model_name": "LayoutModel",
     "state": {
      "_model_module": "@jupyter-widgets/base",
      "_model_module_version": "1.2.0",
      "_model_name": "LayoutModel",
      "_view_count": null,
      "_view_module": "@jupyter-widgets/base",
      "_view_module_version": "1.2.0",
      "_view_name": "LayoutView",
      "align_content": null,
      "align_items": null,
      "align_self": null,
      "border": null,
      "bottom": null,
      "display": null,
      "flex": null,
      "flex_flow": null,
      "grid_area": null,
      "grid_auto_columns": null,
      "grid_auto_flow": null,
      "grid_auto_rows": null,
      "grid_column": null,
      "grid_gap": null,
      "grid_row": null,
      "grid_template_areas": null,
      "grid_template_columns": null,
      "grid_template_rows": null,
      "height": null,
      "justify_content": null,
      "justify_items": null,
      "left": null,
      "margin": null,
      "max_height": null,
      "max_width": null,
      "min_height": null,
      "min_width": null,
      "object_fit": null,
      "object_position": null,
      "order": null,
      "overflow": null,
      "overflow_x": null,
      "overflow_y": null,
      "padding": null,
      "right": null,
      "top": null,
      "visibility": null,
      "width": null
     }
    },
    "b649fb62e3a94108bbf021f736a51411": {
     "model_module": "@jupyter-widgets/controls",
     "model_module_version": "1.5.0",
     "model_name": "FloatProgressModel",
     "state": {
      "_dom_classes": [],
      "_model_module": "@jupyter-widgets/controls",
      "_model_module_version": "1.5.0",
      "_model_name": "FloatProgressModel",
      "_view_count": null,
      "_view_module": "@jupyter-widgets/controls",
      "_view_module_version": "1.5.0",
      "_view_name": "ProgressView",
      "bar_style": "success",
      "description": "",
      "description_tooltip": null,
      "layout": "IPY_MODEL_350a954de0834529a63f7e5e215e35d7",
      "max": 1108,
      "min": 0,
      "orientation": "horizontal",
      "style": "IPY_MODEL_8213d9bca40242d4a6ca4159fca4857f",
      "value": 1108
     }
    },
    "b9105dac30b347e4ba4ebc227a052104": {
     "model_module": "@jupyter-widgets/controls",
     "model_module_version": "1.5.0",
     "model_name": "FloatProgressModel",
     "state": {
      "_dom_classes": [],
      "_model_module": "@jupyter-widgets/controls",
      "_model_module_version": "1.5.0",
      "_model_name": "FloatProgressModel",
      "_view_count": null,
      "_view_module": "@jupyter-widgets/controls",
      "_view_module_version": "1.5.0",
      "_view_name": "ProgressView",
      "bar_style": "danger",
      "description": "",
      "description_tooltip": null,
      "layout": "IPY_MODEL_f1cf53175fb446198fb821652c20162d",
      "max": 2031,
      "min": 0,
      "orientation": "horizontal",
      "style": "IPY_MODEL_0d2a9ff30d984ad7976a66028f2baa3b",
      "value": 0
     }
    },
    "bbbb89d45cbd4b9f80ea194e28279c91": {
     "model_module": "@jupyter-widgets/controls",
     "model_module_version": "1.5.0",
     "model_name": "HTMLModel",
     "state": {
      "_dom_classes": [],
      "_model_module": "@jupyter-widgets/controls",
      "_model_module_version": "1.5.0",
      "_model_name": "HTMLModel",
      "_view_count": null,
      "_view_module": "@jupyter-widgets/controls",
      "_view_module_version": "1.5.0",
      "_view_name": "HTMLView",
      "description": "",
      "description_tooltip": null,
      "layout": "IPY_MODEL_5c0146fb497c408c82015bc24594ce67",
      "placeholder": "​",
      "style": "IPY_MODEL_729a07f3e22d418ea0137a077992d4f5",
      "value": "tokenizer_config.json: 100%"
     }
    },
    "bc5ca09a79ae44eb9b2a8a520706cfa4": {
     "model_module": "@jupyter-widgets/controls",
     "model_module_version": "1.5.0",
     "model_name": "ProgressStyleModel",
     "state": {
      "_model_module": "@jupyter-widgets/controls",
      "_model_module_version": "1.5.0",
      "_model_name": "ProgressStyleModel",
      "_view_count": null,
      "_view_module": "@jupyter-widgets/base",
      "_view_module_version": "1.2.0",
      "_view_name": "StyleView",
      "bar_color": null,
      "description_width": ""
     }
    },
    "c0739ebfb9544922be581b441aaa4db8": {
     "model_module": "@jupyter-widgets/controls",
     "model_module_version": "1.5.0",
     "model_name": "ProgressStyleModel",
     "state": {
      "_model_module": "@jupyter-widgets/controls",
      "_model_module_version": "1.5.0",
      "_model_name": "ProgressStyleModel",
      "_view_count": null,
      "_view_module": "@jupyter-widgets/base",
      "_view_module_version": "1.2.0",
      "_view_name": "StyleView",
      "bar_color": null,
      "description_width": ""
     }
    },
    "c291408f8d664acb99d52ecca5fdaf22": {
     "model_module": "@jupyter-widgets/base",
     "model_module_version": "1.2.0",
     "model_name": "LayoutModel",
     "state": {
      "_model_module": "@jupyter-widgets/base",
      "_model_module_version": "1.2.0",
      "_model_name": "LayoutModel",
      "_view_count": null,
      "_view_module": "@jupyter-widgets/base",
      "_view_module_version": "1.2.0",
      "_view_name": "LayoutView",
      "align_content": null,
      "align_items": null,
      "align_self": null,
      "border": null,
      "bottom": null,
      "display": null,
      "flex": null,
      "flex_flow": null,
      "grid_area": null,
      "grid_auto_columns": null,
      "grid_auto_flow": null,
      "grid_auto_rows": null,
      "grid_column": null,
      "grid_gap": null,
      "grid_row": null,
      "grid_template_areas": null,
      "grid_template_columns": null,
      "grid_template_rows": null,
      "height": null,
      "justify_content": null,
      "justify_items": null,
      "left": null,
      "margin": null,
      "max_height": null,
      "max_width": null,
      "min_height": null,
      "min_width": null,
      "object_fit": null,
      "object_position": null,
      "order": null,
      "overflow": null,
      "overflow_x": null,
      "overflow_y": null,
      "padding": null,
      "right": null,
      "top": null,
      "visibility": null,
      "width": null
     }
    },
    "cca7029c40874015b01c2fe1a9a6e599": {
     "model_module": "@jupyter-widgets/controls",
     "model_module_version": "1.5.0",
     "model_name": "DescriptionStyleModel",
     "state": {
      "_model_module": "@jupyter-widgets/controls",
      "_model_module_version": "1.5.0",
      "_model_name": "DescriptionStyleModel",
      "_view_count": null,
      "_view_module": "@jupyter-widgets/base",
      "_view_module_version": "1.2.0",
      "_view_name": "StyleView",
      "description_width": ""
     }
    },
    "dd17f975571342c1b404df0176d67474": {
     "model_module": "@jupyter-widgets/controls",
     "model_module_version": "1.5.0",
     "model_name": "HTMLModel",
     "state": {
      "_dom_classes": [],
      "_model_module": "@jupyter-widgets/controls",
      "_model_module_version": "1.5.0",
      "_model_name": "HTMLModel",
      "_view_count": null,
      "_view_module": "@jupyter-widgets/controls",
      "_view_module_version": "1.5.0",
      "_view_name": "HTMLView",
      "description": "",
      "description_tooltip": null,
      "layout": "IPY_MODEL_b20beb2f3d2a4fc9953eb94ff1187bf2",
      "placeholder": "​",
      "style": "IPY_MODEL_f5969c3b6de142fbb7d920944daaa059",
      "value": "tokenizer.model: 100%"
     }
    },
    "e178a04c2f334afc887ad542f8d3ffee": {
     "model_module": "@jupyter-widgets/base",
     "model_module_version": "1.2.0",
     "model_name": "LayoutModel",
     "state": {
      "_model_module": "@jupyter-widgets/base",
      "_model_module_version": "1.2.0",
      "_model_name": "LayoutModel",
      "_view_count": null,
      "_view_module": "@jupyter-widgets/base",
      "_view_module_version": "1.2.0",
      "_view_name": "LayoutView",
      "align_content": null,
      "align_items": null,
      "align_self": null,
      "border": null,
      "bottom": null,
      "display": null,
      "flex": null,
      "flex_flow": null,
      "grid_area": null,
      "grid_auto_columns": null,
      "grid_auto_flow": null,
      "grid_auto_rows": null,
      "grid_column": null,
      "grid_gap": null,
      "grid_row": null,
      "grid_template_areas": null,
      "grid_template_columns": null,
      "grid_template_rows": null,
      "height": null,
      "justify_content": null,
      "justify_items": null,
      "left": null,
      "margin": null,
      "max_height": null,
      "max_width": null,
      "min_height": null,
      "min_width": null,
      "object_fit": null,
      "object_position": null,
      "order": null,
      "overflow": null,
      "overflow_x": null,
      "overflow_y": null,
      "padding": null,
      "right": null,
      "top": null,
      "visibility": null,
      "width": null
     }
    },
    "e6ee6ae4d57b474eac92d44df828a38e": {
     "model_module": "@jupyter-widgets/controls",
     "model_module_version": "1.5.0",
     "model_name": "DescriptionStyleModel",
     "state": {
      "_model_module": "@jupyter-widgets/controls",
      "_model_module_version": "1.5.0",
      "_model_name": "DescriptionStyleModel",
      "_view_count": null,
      "_view_module": "@jupyter-widgets/base",
      "_view_module_version": "1.2.0",
      "_view_name": "StyleView",
      "description_width": ""
     }
    },
    "e973377bc39542d6af22ee48125cb18f": {
     "model_module": "@jupyter-widgets/controls",
     "model_module_version": "1.5.0",
     "model_name": "HTMLModel",
     "state": {
      "_dom_classes": [],
      "_model_module": "@jupyter-widgets/controls",
      "_model_module_version": "1.5.0",
      "_model_name": "HTMLModel",
      "_view_count": null,
      "_view_module": "@jupyter-widgets/controls",
      "_view_module_version": "1.5.0",
      "_view_name": "HTMLView",
      "description": "",
      "description_tooltip": null,
      "layout": "IPY_MODEL_f70be9457ef342d7919a2c675ff50bba",
      "placeholder": "​",
      "style": "IPY_MODEL_48fa3c1bd847463ebc1c0f8a9fbf9dc6",
      "value": "special_tokens_map.json: 100%"
     }
    },
    "f1cf53175fb446198fb821652c20162d": {
     "model_module": "@jupyter-widgets/base",
     "model_module_version": "1.2.0",
     "model_name": "LayoutModel",
     "state": {
      "_model_module": "@jupyter-widgets/base",
      "_model_module_version": "1.2.0",
      "_model_name": "LayoutModel",
      "_view_count": null,
      "_view_module": "@jupyter-widgets/base",
      "_view_module_version": "1.2.0",
      "_view_name": "LayoutView",
      "align_content": null,
      "align_items": null,
      "align_self": null,
      "border": null,
      "bottom": null,
      "display": null,
      "flex": null,
      "flex_flow": null,
      "grid_area": null,
      "grid_auto_columns": null,
      "grid_auto_flow": null,
      "grid_auto_rows": null,
      "grid_column": null,
      "grid_gap": null,
      "grid_row": null,
      "grid_template_areas": null,
      "grid_template_columns": null,
      "grid_template_rows": null,
      "height": null,
      "justify_content": null,
      "justify_items": null,
      "left": null,
      "margin": null,
      "max_height": null,
      "max_width": null,
      "min_height": null,
      "min_width": null,
      "object_fit": null,
      "object_position": null,
      "order": null,
      "overflow": null,
      "overflow_x": null,
      "overflow_y": null,
      "padding": null,
      "right": null,
      "top": null,
      "visibility": null,
      "width": null
     }
    },
    "f56e81fb31c842e2854fd92c822ce95c": {
     "model_module": "@jupyter-widgets/controls",
     "model_module_version": "1.5.0",
     "model_name": "HTMLModel",
     "state": {
      "_dom_classes": [],
      "_model_module": "@jupyter-widgets/controls",
      "_model_module_version": "1.5.0",
      "_model_name": "HTMLModel",
      "_view_count": null,
      "_view_module": "@jupyter-widgets/controls",
      "_view_module_version": "1.5.0",
      "_view_name": "HTMLView",
      "description": "",
      "description_tooltip": null,
      "layout": "IPY_MODEL_9b1933af936b44ba9410d3729e386261",
      "placeholder": "​",
      "style": "IPY_MODEL_8bf29ecc960449f9bde12dc2049899aa",
      "value": " 1.11k/1.11k [00:00&lt;00:00, 26.8kB/s]"
     }
    },
    "f5969c3b6de142fbb7d920944daaa059": {
     "model_module": "@jupyter-widgets/controls",
     "model_module_version": "1.5.0",
     "model_name": "DescriptionStyleModel",
     "state": {
      "_model_module": "@jupyter-widgets/controls",
      "_model_module_version": "1.5.0",
      "_model_name": "DescriptionStyleModel",
      "_view_count": null,
      "_view_module": "@jupyter-widgets/base",
      "_view_module_version": "1.2.0",
      "_view_name": "StyleView",
      "description_width": ""
     }
    },
    "f70be9457ef342d7919a2c675ff50bba": {
     "model_module": "@jupyter-widgets/base",
     "model_module_version": "1.2.0",
     "model_name": "LayoutModel",
     "state": {
      "_model_module": "@jupyter-widgets/base",
      "_model_module_version": "1.2.0",
      "_model_name": "LayoutModel",
      "_view_count": null,
      "_view_module": "@jupyter-widgets/base",
      "_view_module_version": "1.2.0",
      "_view_name": "LayoutView",
      "align_content": null,
      "align_items": null,
      "align_self": null,
      "border": null,
      "bottom": null,
      "display": null,
      "flex": null,
      "flex_flow": null,
      "grid_area": null,
      "grid_auto_columns": null,
      "grid_auto_flow": null,
      "grid_auto_rows": null,
      "grid_column": null,
      "grid_gap": null,
      "grid_row": null,
      "grid_template_areas": null,
      "grid_template_columns": null,
      "grid_template_rows": null,
      "height": null,
      "justify_content": null,
      "justify_items": null,
      "left": null,
      "margin": null,
      "max_height": null,
      "max_width": null,
      "min_height": null,
      "min_width": null,
      "object_fit": null,
      "object_position": null,
      "order": null,
      "overflow": null,
      "overflow_x": null,
      "overflow_y": null,
      "padding": null,
      "right": null,
      "top": null,
      "visibility": null,
      "width": null
     }
    }
   }
  }
 },
 "nbformat": 4,
 "nbformat_minor": 0
}
